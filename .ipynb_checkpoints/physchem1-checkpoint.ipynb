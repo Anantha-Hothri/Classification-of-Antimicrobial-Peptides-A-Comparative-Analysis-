{
 "cells": [
  {
   "cell_type": "code",
   "execution_count": 1,
   "metadata": {
    "colab": {
     "base_uri": "https://localhost:8080/",
     "height": 102,
     "resources": {
      "http://localhost:8080/nbextensions/google.colab/files.js": {
       "data": "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",
       "headers": [
        [
         "content-type",
         "application/javascript"
        ]
       ],
       "ok": true,
       "status": 200,
       "status_text": ""
      }
     }
    },
    "id": "LLPakHeiVoPl",
    "outputId": "59de373b-eea8-4f31-97aa-bc478d6bd2d4"
   },
   "outputs": [],
   "source": [
    "import pandas as pd\n",
    "import numpy as np\n",
    "from matplotlib import pyplot as plt\n",
    "import seaborn as sns\n",
    "from Bio.SeqUtils.ProtParam import ProteinAnalysis\n",
    "import warnings\n",
    "from sklearn.model_selection import GridSearchCV\n",
    "import pandas as pd\n",
    "import numpy as np\n",
    "from matplotlib import pyplot as plt\n",
    "import seaborn as sns\n",
    "import scipy.stats as stats\n",
    "from sklearn.feature_extraction.text import CountVectorizer, TfidfTransformer, HashingVectorizer\n",
    "from sklearn.model_selection import train_test_split as tts\n",
    "from sklearn.metrics import roc_auc_score, accuracy_score, precision_score, recall_score, f1_score\n",
    "from sklearn.linear_model import LogisticRegression\n",
    "from sklearn.tree import DecisionTreeClassifier\n",
    "from sklearn.svm import SVC\n",
    "from sklearn.ensemble import RandomForestClassifier\n",
    "from sklearn.discriminant_analysis import LinearDiscriminantAnalysis, QuadraticDiscriminantAnalysis\n",
    "from sklearn.neighbors import KNeighborsClassifier\n",
    "from sklearn.naive_bayes import GaussianNB\n",
    "from sklearn.metrics import precision_recall_fscore_support\n",
    "from sklearn.preprocessing import StandardScaler\n",
    "from sklearn.model_selection import cross_validate\n",
    "from sklearn.neural_network import MLPClassifier\n",
    "from tqdm import tqdm\n",
    "from lime import lime_tabular\n",
    "import warnings\n",
    "\n",
    "\n",
    "warnings.filterwarnings('ignore')"
   ]
  },
  {
   "cell_type": "code",
   "execution_count": 2,
   "metadata": {
    "id": "YNTntXqRV6ML"
   },
   "outputs": [],
   "source": [
    "import io\n",
    "posDF = pd.read_csv(r\"C:\\Users\\Advik Narendran\\Downloads\\bio project\\PositiveSequences.csv\")\n",
    "allDataDF = pd.read_csv(r'C:\\Users\\Advik Narendran\\Downloads\\bio project\\nlp_data.csv')"
   ]
  },
  {
   "cell_type": "markdown",
   "metadata": {
    "id": "LwwWDBPUsNwg"
   },
   "source": [
    "The data in this situation is weird - one CSV contains only positive sequences (antimicrobial peptides) and the other CSV contains positive and negative sequences (antimicrobial and non-antimicrobial peptides)"
   ]
  },
  {
   "cell_type": "code",
   "execution_count": 3,
   "metadata": {
    "colab": {
     "base_uri": "https://localhost:8080/",
     "height": 888
    },
    "id": "7AFOfJKGWNv2",
    "outputId": "760f91e8-9c33-4bbf-a674-347315cab1d4"
   },
   "outputs": [
    {
     "name": "stdout",
     "output_type": "stream",
     "text": [
      "Dataframe with all peptides:\n"
     ]
    },
    {
     "data": {
      "text/html": [
       "<div>\n",
       "<style scoped>\n",
       "    .dataframe tbody tr th:only-of-type {\n",
       "        vertical-align: middle;\n",
       "    }\n",
       "\n",
       "    .dataframe tbody tr th {\n",
       "        vertical-align: top;\n",
       "    }\n",
       "\n",
       "    .dataframe thead th {\n",
       "        text-align: right;\n",
       "    }\n",
       "</style>\n",
       "<table border=\"1\" class=\"dataframe\">\n",
       "  <thead>\n",
       "    <tr style=\"text-align: right;\">\n",
       "      <th></th>\n",
       "      <th>DADP ID</th>\n",
       "      <th>Entry Name</th>\n",
       "      <th>Uniprot code</th>\n",
       "      <th>Species</th>\n",
       "      <th>Sequence length</th>\n",
       "      <th>signal sequence</th>\n",
       "      <th>Bioactive sequence</th>\n",
       "    </tr>\n",
       "    <tr>\n",
       "      <th>DADP ID</th>\n",
       "      <th></th>\n",
       "      <th></th>\n",
       "      <th></th>\n",
       "      <th></th>\n",
       "      <th></th>\n",
       "      <th></th>\n",
       "      <th></th>\n",
       "    </tr>\n",
       "  </thead>\n",
       "  <tbody>\n",
       "    <tr>\n",
       "      <th>SP_P86816</th>\n",
       "      <td>SP_P86816</td>\n",
       "      <td>[Ala1,Thr6,Ala11]-phyllokinin</td>\n",
       "      <td>P86816</td>\n",
       "      <td>Physalaemus signifer</td>\n",
       "      <td>11</td>\n",
       "      <td>/</td>\n",
       "      <td>APPGFTPFRIA</td>\n",
       "    </tr>\n",
       "    <tr>\n",
       "      <th>SP_P86817</th>\n",
       "      <td>SP_P86817</td>\n",
       "      <td>[Ala1,Thr6,Asp11]-phyllokinin</td>\n",
       "      <td>P86817</td>\n",
       "      <td>Physalaemus signifer</td>\n",
       "      <td>11</td>\n",
       "      <td>/</td>\n",
       "      <td>APPGFTPFRID</td>\n",
       "    </tr>\n",
       "    <tr>\n",
       "      <th>SP_P86812</th>\n",
       "      <td>SP_P86812</td>\n",
       "      <td>[Ala1,Thr6]-bradykinin</td>\n",
       "      <td>P86812</td>\n",
       "      <td>Physalaemus signifer</td>\n",
       "      <td>9</td>\n",
       "      <td>/</td>\n",
       "      <td>APPGFTPFR</td>\n",
       "    </tr>\n",
       "    <tr>\n",
       "      <th>SP_P86813</th>\n",
       "      <td>SP_P86813</td>\n",
       "      <td>[Ala1,Thr6]-bradykinyl-Ser</td>\n",
       "      <td>P86813</td>\n",
       "      <td>Physalaemus signifer</td>\n",
       "      <td>10</td>\n",
       "      <td>/</td>\n",
       "      <td>APPGFTPFRS</td>\n",
       "    </tr>\n",
       "    <tr>\n",
       "      <th>SP_P86814</th>\n",
       "      <td>SP_P86814</td>\n",
       "      <td>[Ala1,Thr6]-bradykinyl-Ser,Lys</td>\n",
       "      <td>P86814</td>\n",
       "      <td>Physalaemus signifer</td>\n",
       "      <td>11</td>\n",
       "      <td>/</td>\n",
       "      <td>APPGFTPFRSK</td>\n",
       "    </tr>\n",
       "    <tr>\n",
       "      <th>...</th>\n",
       "      <td>...</td>\n",
       "      <td>...</td>\n",
       "      <td>...</td>\n",
       "      <td>...</td>\n",
       "      <td>...</td>\n",
       "      <td>...</td>\n",
       "      <td>...</td>\n",
       "    </tr>\n",
       "    <tr>\n",
       "      <th>SP_2596</th>\n",
       "      <td>SP_2596</td>\n",
       "      <td>XPF-C1</td>\n",
       "      <td>NaN</td>\n",
       "      <td>Xenopus clivii</td>\n",
       "      <td>25</td>\n",
       "      <td>/</td>\n",
       "      <td>GWASKIGQALGKVAKVGLQQFIQPK</td>\n",
       "    </tr>\n",
       "    <tr>\n",
       "      <th>SP_2704</th>\n",
       "      <td>SP_2704</td>\n",
       "      <td>XPF-SP1</td>\n",
       "      <td>NaN</td>\n",
       "      <td>Xenopus tropicalis</td>\n",
       "      <td>25</td>\n",
       "      <td>/</td>\n",
       "      <td>GFWSSALEGLKKFAKGGLEALTNPK</td>\n",
       "    </tr>\n",
       "    <tr>\n",
       "      <th>SP_2705</th>\n",
       "      <td>SP_2705</td>\n",
       "      <td>XPF-SP2</td>\n",
       "      <td>NaN</td>\n",
       "      <td>Xenopus tropicalis</td>\n",
       "      <td>25</td>\n",
       "      <td>/</td>\n",
       "      <td>GLASTIGSLLGKFAKGGAQAFLQPK</td>\n",
       "    </tr>\n",
       "    <tr>\n",
       "      <th>SP_2743</th>\n",
       "      <td>SP_2743</td>\n",
       "      <td>XTG 1</td>\n",
       "      <td>NaN</td>\n",
       "      <td>Xenopus tropicalis</td>\n",
       "      <td>87</td>\n",
       "      <td>MYKGICLCALLAVICANSLA</td>\n",
       "      <td>GWGDTFGKVLKNFAKVAGVKAAK</td>\n",
       "    </tr>\n",
       "    <tr>\n",
       "      <th>SP_2742</th>\n",
       "      <td>SP_2742</td>\n",
       "      <td>XTG 2</td>\n",
       "      <td>NaN</td>\n",
       "      <td>Xenopus tropicalis</td>\n",
       "      <td>83</td>\n",
       "      <td>MYKGIFLCALLAVICANSLA</td>\n",
       "      <td>GWGDTFLKTMAKIAKVGPKLLHS</td>\n",
       "    </tr>\n",
       "  </tbody>\n",
       "</table>\n",
       "<p>2571 rows × 7 columns</p>\n",
       "</div>"
      ],
      "text/plain": [
       "             DADP ID                      Entry Name Uniprot code  \\\n",
       "DADP ID                                                             \n",
       "SP_P86816  SP_P86816   [Ala1,Thr6,Ala11]-phyllokinin       P86816   \n",
       "SP_P86817  SP_P86817   [Ala1,Thr6,Asp11]-phyllokinin       P86817   \n",
       "SP_P86812  SP_P86812          [Ala1,Thr6]-bradykinin       P86812   \n",
       "SP_P86813  SP_P86813      [Ala1,Thr6]-bradykinyl-Ser       P86813   \n",
       "SP_P86814  SP_P86814  [Ala1,Thr6]-bradykinyl-Ser,Lys       P86814   \n",
       "...              ...                             ...          ...   \n",
       "SP_2596      SP_2596                          XPF-C1          NaN   \n",
       "SP_2704      SP_2704                         XPF-SP1          NaN   \n",
       "SP_2705      SP_2705                         XPF-SP2          NaN   \n",
       "SP_2743      SP_2743                           XTG 1          NaN   \n",
       "SP_2742      SP_2742                           XTG 2          NaN   \n",
       "\n",
       "                        Species  Sequence length       signal sequence  \\\n",
       "DADP ID                                                                  \n",
       "SP_P86816  Physalaemus signifer               11                     /   \n",
       "SP_P86817  Physalaemus signifer               11                     /   \n",
       "SP_P86812  Physalaemus signifer                9                     /   \n",
       "SP_P86813  Physalaemus signifer               10                     /   \n",
       "SP_P86814  Physalaemus signifer               11                     /   \n",
       "...                         ...              ...                   ...   \n",
       "SP_2596          Xenopus clivii               25                     /   \n",
       "SP_2704      Xenopus tropicalis               25                     /   \n",
       "SP_2705      Xenopus tropicalis               25                     /   \n",
       "SP_2743      Xenopus tropicalis               87  MYKGICLCALLAVICANSLA   \n",
       "SP_2742      Xenopus tropicalis               83  MYKGIFLCALLAVICANSLA   \n",
       "\n",
       "                  Bioactive sequence  \n",
       "DADP ID                               \n",
       "SP_P86816                APPGFTPFRIA  \n",
       "SP_P86817                APPGFTPFRID  \n",
       "SP_P86812                  APPGFTPFR  \n",
       "SP_P86813                 APPGFTPFRS  \n",
       "SP_P86814                APPGFTPFRSK  \n",
       "...                              ...  \n",
       "SP_2596    GWASKIGQALGKVAKVGLQQFIQPK  \n",
       "SP_2704    GFWSSALEGLKKFAKGGLEALTNPK  \n",
       "SP_2705    GLASTIGSLLGKFAKGGAQAFLQPK  \n",
       "SP_2743      GWGDTFGKVLKNFAKVAGVKAAK  \n",
       "SP_2742      GWGDTFLKTMAKIAKVGPKLLHS  \n",
       "\n",
       "[2571 rows x 7 columns]"
      ]
     },
     "metadata": {},
     "output_type": "display_data"
    },
    {
     "name": "stdout",
     "output_type": "stream",
     "text": [
      "\n",
      "\n",
      "Dataframe with only Antimicrobial peptides:\n"
     ]
    },
    {
     "data": {
      "text/html": [
       "<div>\n",
       "<style scoped>\n",
       "    .dataframe tbody tr th:only-of-type {\n",
       "        vertical-align: middle;\n",
       "    }\n",
       "\n",
       "    .dataframe tbody tr th {\n",
       "        vertical-align: top;\n",
       "    }\n",
       "\n",
       "    .dataframe thead th {\n",
       "        text-align: right;\n",
       "    }\n",
       "</style>\n",
       "<table border=\"1\" class=\"dataframe\">\n",
       "  <thead>\n",
       "    <tr style=\"text-align: right;\">\n",
       "      <th></th>\n",
       "      <th>DADP ID</th>\n",
       "      <th>Entry Name</th>\n",
       "      <th>Uniprot code</th>\n",
       "      <th>Species</th>\n",
       "      <th>Sequence length</th>\n",
       "      <th>signal sequence</th>\n",
       "      <th>Bioactive sequence</th>\n",
       "    </tr>\n",
       "    <tr>\n",
       "      <th>DADP ID</th>\n",
       "      <th></th>\n",
       "      <th></th>\n",
       "      <th></th>\n",
       "      <th></th>\n",
       "      <th></th>\n",
       "      <th></th>\n",
       "      <th></th>\n",
       "    </tr>\n",
       "  </thead>\n",
       "  <tbody>\n",
       "    <tr>\n",
       "      <th>SP_P31107</th>\n",
       "      <td>SP_P31107</td>\n",
       "      <td>Adenoregulin</td>\n",
       "      <td>P31107</td>\n",
       "      <td>Phyllomedusa bicolor</td>\n",
       "      <td>81</td>\n",
       "      <td>MAFLKKSLFLVLFLGLVSLSIC</td>\n",
       "      <td>GLWSKIKEVGKEAAKAAAKAAGKAALGAVSEAV</td>\n",
       "    </tr>\n",
       "    <tr>\n",
       "      <th>SP_2643</th>\n",
       "      <td>SP_2643</td>\n",
       "      <td>Alyteserin-1a</td>\n",
       "      <td>NaN</td>\n",
       "      <td>Alytes obstetricans</td>\n",
       "      <td>23</td>\n",
       "      <td>/</td>\n",
       "      <td>GLKDIFKAGLGSLVKGIAAHVAN</td>\n",
       "    </tr>\n",
       "    <tr>\n",
       "      <th>SP_2644</th>\n",
       "      <td>SP_2644</td>\n",
       "      <td>Alyteserin-1b</td>\n",
       "      <td>NaN</td>\n",
       "      <td>Alytes obstetricans</td>\n",
       "      <td>23</td>\n",
       "      <td>/</td>\n",
       "      <td>GLKEIFKAGLGSLVKGIAAHVAN</td>\n",
       "    </tr>\n",
       "    <tr>\n",
       "      <th>SP_2645</th>\n",
       "      <td>SP_2645</td>\n",
       "      <td>Alyteserin-1c</td>\n",
       "      <td>NaN</td>\n",
       "      <td>Alytes obstetricans</td>\n",
       "      <td>23</td>\n",
       "      <td>/</td>\n",
       "      <td>GLKEIFKAGLGSLVKGIAAHVAS</td>\n",
       "    </tr>\n",
       "    <tr>\n",
       "      <th>SP_2646</th>\n",
       "      <td>SP_2646</td>\n",
       "      <td>Alyteserin-2a</td>\n",
       "      <td>NaN</td>\n",
       "      <td>Alytes obstetricans</td>\n",
       "      <td>16</td>\n",
       "      <td>/</td>\n",
       "      <td>ILGKLLSTAAGLLSNL</td>\n",
       "    </tr>\n",
       "    <tr>\n",
       "      <th>...</th>\n",
       "      <td>...</td>\n",
       "      <td>...</td>\n",
       "      <td>...</td>\n",
       "      <td>...</td>\n",
       "      <td>...</td>\n",
       "      <td>...</td>\n",
       "      <td>...</td>\n",
       "    </tr>\n",
       "    <tr>\n",
       "      <th>SP_2596</th>\n",
       "      <td>SP_2596</td>\n",
       "      <td>XPF-C1</td>\n",
       "      <td>NaN</td>\n",
       "      <td>Xenopus clivii</td>\n",
       "      <td>25</td>\n",
       "      <td>/</td>\n",
       "      <td>GWASKIGQALGKVAKVGLQQFIQPK</td>\n",
       "    </tr>\n",
       "    <tr>\n",
       "      <th>SP_2704</th>\n",
       "      <td>SP_2704</td>\n",
       "      <td>XPF-SP1</td>\n",
       "      <td>NaN</td>\n",
       "      <td>Xenopus tropicalis</td>\n",
       "      <td>25</td>\n",
       "      <td>/</td>\n",
       "      <td>GFWSSALEGLKKFAKGGLEALTNPK</td>\n",
       "    </tr>\n",
       "    <tr>\n",
       "      <th>SP_2705</th>\n",
       "      <td>SP_2705</td>\n",
       "      <td>XPF-SP2</td>\n",
       "      <td>NaN</td>\n",
       "      <td>Xenopus tropicalis</td>\n",
       "      <td>25</td>\n",
       "      <td>/</td>\n",
       "      <td>GLASTIGSLLGKFAKGGAQAFLQPK</td>\n",
       "    </tr>\n",
       "    <tr>\n",
       "      <th>SP_2743</th>\n",
       "      <td>SP_2743</td>\n",
       "      <td>XTG 1</td>\n",
       "      <td>NaN</td>\n",
       "      <td>Xenopus tropicalis</td>\n",
       "      <td>87</td>\n",
       "      <td>MYKGICLCALLAVICANSLA</td>\n",
       "      <td>GWGDTFGKVLKNFAKVAGVKAAK</td>\n",
       "    </tr>\n",
       "    <tr>\n",
       "      <th>SP_2742</th>\n",
       "      <td>SP_2742</td>\n",
       "      <td>XTG 2</td>\n",
       "      <td>NaN</td>\n",
       "      <td>Xenopus tropicalis</td>\n",
       "      <td>83</td>\n",
       "      <td>MYKGIFLCALLAVICANSLA</td>\n",
       "      <td>GWGDTFLKTMAKIAKVGPKLLHS</td>\n",
       "    </tr>\n",
       "  </tbody>\n",
       "</table>\n",
       "<p>921 rows × 7 columns</p>\n",
       "</div>"
      ],
      "text/plain": [
       "             DADP ID     Entry Name Uniprot code               Species  \\\n",
       "DADP ID                                                                  \n",
       "SP_P31107  SP_P31107   Adenoregulin       P31107  Phyllomedusa bicolor   \n",
       "SP_2643      SP_2643  Alyteserin-1a          NaN   Alytes obstetricans   \n",
       "SP_2644      SP_2644  Alyteserin-1b          NaN   Alytes obstetricans   \n",
       "SP_2645      SP_2645  Alyteserin-1c          NaN   Alytes obstetricans   \n",
       "SP_2646      SP_2646  Alyteserin-2a          NaN   Alytes obstetricans   \n",
       "...              ...            ...          ...                   ...   \n",
       "SP_2596      SP_2596         XPF-C1          NaN        Xenopus clivii   \n",
       "SP_2704      SP_2704        XPF-SP1          NaN    Xenopus tropicalis   \n",
       "SP_2705      SP_2705        XPF-SP2          NaN    Xenopus tropicalis   \n",
       "SP_2743      SP_2743          XTG 1          NaN    Xenopus tropicalis   \n",
       "SP_2742      SP_2742          XTG 2          NaN    Xenopus tropicalis   \n",
       "\n",
       "           Sequence length         signal sequence  \\\n",
       "DADP ID                                              \n",
       "SP_P31107               81  MAFLKKSLFLVLFLGLVSLSIC   \n",
       "SP_2643                 23                       /   \n",
       "SP_2644                 23                       /   \n",
       "SP_2645                 23                       /   \n",
       "SP_2646                 16                       /   \n",
       "...                    ...                     ...   \n",
       "SP_2596                 25                       /   \n",
       "SP_2704                 25                       /   \n",
       "SP_2705                 25                       /   \n",
       "SP_2743                 87    MYKGICLCALLAVICANSLA   \n",
       "SP_2742                 83    MYKGIFLCALLAVICANSLA   \n",
       "\n",
       "                          Bioactive sequence  \n",
       "DADP ID                                       \n",
       "SP_P31107  GLWSKIKEVGKEAAKAAAKAAGKAALGAVSEAV  \n",
       "SP_2643              GLKDIFKAGLGSLVKGIAAHVAN  \n",
       "SP_2644              GLKEIFKAGLGSLVKGIAAHVAN  \n",
       "SP_2645              GLKEIFKAGLGSLVKGIAAHVAS  \n",
       "SP_2646                     ILGKLLSTAAGLLSNL  \n",
       "...                                      ...  \n",
       "SP_2596            GWASKIGQALGKVAKVGLQQFIQPK  \n",
       "SP_2704            GFWSSALEGLKKFAKGGLEALTNPK  \n",
       "SP_2705            GLASTIGSLLGKFAKGGAQAFLQPK  \n",
       "SP_2743              GWGDTFGKVLKNFAKVAGVKAAK  \n",
       "SP_2742              GWGDTFLKTMAKIAKVGPKLLHS  \n",
       "\n",
       "[921 rows x 7 columns]"
      ]
     },
     "metadata": {},
     "output_type": "display_data"
    }
   ],
   "source": [
    "allDataDF = allDataDF.set_index(allDataDF['DADP ID'])\n",
    "print(\"Dataframe with all peptides:\")\n",
    "display(allDataDF)\n",
    "posDF = posDF.set_index(posDF['DADP ID'])\n",
    "print(\"\\n\\nDataframe with only Antimicrobial peptides:\")\n",
    "display(posDF)"
   ]
  },
  {
   "cell_type": "markdown",
   "metadata": {
    "id": "MopGAWTAsoNe"
   },
   "source": [
    "To construct the negative dataframe, we will find the list of all DADP IDs (unique identifiers) in the positive dataframe, and drop rows that contain these values from the \"All Data\" dataframe"
   ]
  },
  {
   "cell_type": "code",
   "execution_count": 4,
   "metadata": {
    "colab": {
     "base_uri": "https://localhost:8080/",
     "height": 420
    },
    "id": "mGJSCcOTilT-",
    "outputId": "5146fea5-f4cc-4800-e21c-bb79b5a35692"
   },
   "outputs": [
    {
     "data": {
      "text/html": [
       "<div>\n",
       "<style scoped>\n",
       "    .dataframe tbody tr th:only-of-type {\n",
       "        vertical-align: middle;\n",
       "    }\n",
       "\n",
       "    .dataframe tbody tr th {\n",
       "        vertical-align: top;\n",
       "    }\n",
       "\n",
       "    .dataframe thead th {\n",
       "        text-align: right;\n",
       "    }\n",
       "</style>\n",
       "<table border=\"1\" class=\"dataframe\">\n",
       "  <thead>\n",
       "    <tr style=\"text-align: right;\">\n",
       "      <th></th>\n",
       "      <th>DADP ID</th>\n",
       "      <th>Entry Name</th>\n",
       "      <th>Uniprot code</th>\n",
       "      <th>Species</th>\n",
       "      <th>Sequence length</th>\n",
       "      <th>signal sequence</th>\n",
       "      <th>Bioactive sequence</th>\n",
       "    </tr>\n",
       "    <tr>\n",
       "      <th>DADP ID</th>\n",
       "      <th></th>\n",
       "      <th></th>\n",
       "      <th></th>\n",
       "      <th></th>\n",
       "      <th></th>\n",
       "      <th></th>\n",
       "      <th></th>\n",
       "    </tr>\n",
       "  </thead>\n",
       "  <tbody>\n",
       "    <tr>\n",
       "      <th>SP_P86816</th>\n",
       "      <td>SP_P86816</td>\n",
       "      <td>[Ala1,Thr6,Ala11]-phyllokinin</td>\n",
       "      <td>P86816</td>\n",
       "      <td>Physalaemus signifer</td>\n",
       "      <td>11</td>\n",
       "      <td>/</td>\n",
       "      <td>APPGFTPFRIA</td>\n",
       "    </tr>\n",
       "    <tr>\n",
       "      <th>SP_P86817</th>\n",
       "      <td>SP_P86817</td>\n",
       "      <td>[Ala1,Thr6,Asp11]-phyllokinin</td>\n",
       "      <td>P86817</td>\n",
       "      <td>Physalaemus signifer</td>\n",
       "      <td>11</td>\n",
       "      <td>/</td>\n",
       "      <td>APPGFTPFRID</td>\n",
       "    </tr>\n",
       "    <tr>\n",
       "      <th>SP_P86812</th>\n",
       "      <td>SP_P86812</td>\n",
       "      <td>[Ala1,Thr6]-bradykinin</td>\n",
       "      <td>P86812</td>\n",
       "      <td>Physalaemus signifer</td>\n",
       "      <td>9</td>\n",
       "      <td>/</td>\n",
       "      <td>APPGFTPFR</td>\n",
       "    </tr>\n",
       "    <tr>\n",
       "      <th>SP_P86813</th>\n",
       "      <td>SP_P86813</td>\n",
       "      <td>[Ala1,Thr6]-bradykinyl-Ser</td>\n",
       "      <td>P86813</td>\n",
       "      <td>Physalaemus signifer</td>\n",
       "      <td>10</td>\n",
       "      <td>/</td>\n",
       "      <td>APPGFTPFRS</td>\n",
       "    </tr>\n",
       "    <tr>\n",
       "      <th>SP_P86814</th>\n",
       "      <td>SP_P86814</td>\n",
       "      <td>[Ala1,Thr6]-bradykinyl-Ser,Lys</td>\n",
       "      <td>P86814</td>\n",
       "      <td>Physalaemus signifer</td>\n",
       "      <td>11</td>\n",
       "      <td>/</td>\n",
       "      <td>APPGFTPFRSK</td>\n",
       "    </tr>\n",
       "    <tr>\n",
       "      <th>...</th>\n",
       "      <td>...</td>\n",
       "      <td>...</td>\n",
       "      <td>...</td>\n",
       "      <td>...</td>\n",
       "      <td>...</td>\n",
       "      <td>...</td>\n",
       "      <td>...</td>\n",
       "    </tr>\n",
       "    <tr>\n",
       "      <th>SP_2852</th>\n",
       "      <td>SP_2852</td>\n",
       "      <td>Wuchuanin-C1</td>\n",
       "      <td>NaN</td>\n",
       "      <td>Odorrana wuchuanensis</td>\n",
       "      <td>59</td>\n",
       "      <td>MFTLKKSMLLLFFLGTISLSLC</td>\n",
       "      <td>VFLGNIVSMGKKI</td>\n",
       "    </tr>\n",
       "    <tr>\n",
       "      <th>SP_2853</th>\n",
       "      <td>SP_2853</td>\n",
       "      <td>Wuchuanin-D1</td>\n",
       "      <td>NaN</td>\n",
       "      <td>Odorrana wuchuanensis</td>\n",
       "      <td>55</td>\n",
       "      <td>MFTLKKSLLLLFFLGTINLSLC</td>\n",
       "      <td>DAAVEPELYHWGKVWLPN</td>\n",
       "    </tr>\n",
       "    <tr>\n",
       "      <th>SP_2854</th>\n",
       "      <td>SP_2854</td>\n",
       "      <td>Wuchuanin-E1</td>\n",
       "      <td>NaN</td>\n",
       "      <td>Odorrana wuchuanensis</td>\n",
       "      <td>67</td>\n",
       "      <td>MFTLKKSLLLIVLLGIISLSLC</td>\n",
       "      <td>CVDIGFSPTGKRPPFCPYPG</td>\n",
       "    </tr>\n",
       "    <tr>\n",
       "      <th>SP_2855</th>\n",
       "      <td>SP_2855</td>\n",
       "      <td>Wuchuanin-F1</td>\n",
       "      <td>NaN</td>\n",
       "      <td>Odorrana wuchuanensis</td>\n",
       "      <td>64</td>\n",
       "      <td>MFTLKKSLLLLFLLGTISLSLC</td>\n",
       "      <td>VADKRPYILREKKSIPY</td>\n",
       "    </tr>\n",
       "    <tr>\n",
       "      <th>SP_Q09022</th>\n",
       "      <td>SP_Q09022</td>\n",
       "      <td>Xenoxin-1</td>\n",
       "      <td>Q09022</td>\n",
       "      <td>Xenopus laevis</td>\n",
       "      <td>84</td>\n",
       "      <td>MRYAIVFFLVCVITLGEA</td>\n",
       "      <td>LKCVNLQANGIKMTQECAKEDTKCLTLRSLKKTLKFCASGRTCTTM...</td>\n",
       "    </tr>\n",
       "  </tbody>\n",
       "</table>\n",
       "<p>1650 rows × 7 columns</p>\n",
       "</div>"
      ],
      "text/plain": [
       "             DADP ID                      Entry Name Uniprot code  \\\n",
       "DADP ID                                                             \n",
       "SP_P86816  SP_P86816   [Ala1,Thr6,Ala11]-phyllokinin       P86816   \n",
       "SP_P86817  SP_P86817   [Ala1,Thr6,Asp11]-phyllokinin       P86817   \n",
       "SP_P86812  SP_P86812          [Ala1,Thr6]-bradykinin       P86812   \n",
       "SP_P86813  SP_P86813      [Ala1,Thr6]-bradykinyl-Ser       P86813   \n",
       "SP_P86814  SP_P86814  [Ala1,Thr6]-bradykinyl-Ser,Lys       P86814   \n",
       "...              ...                             ...          ...   \n",
       "SP_2852      SP_2852                    Wuchuanin-C1          NaN   \n",
       "SP_2853      SP_2853                    Wuchuanin-D1          NaN   \n",
       "SP_2854      SP_2854                    Wuchuanin-E1          NaN   \n",
       "SP_2855      SP_2855                    Wuchuanin-F1          NaN   \n",
       "SP_Q09022  SP_Q09022                       Xenoxin-1       Q09022   \n",
       "\n",
       "                         Species  Sequence length         signal sequence  \\\n",
       "DADP ID                                                                     \n",
       "SP_P86816   Physalaemus signifer               11                       /   \n",
       "SP_P86817   Physalaemus signifer               11                       /   \n",
       "SP_P86812   Physalaemus signifer                9                       /   \n",
       "SP_P86813   Physalaemus signifer               10                       /   \n",
       "SP_P86814   Physalaemus signifer               11                       /   \n",
       "...                          ...              ...                     ...   \n",
       "SP_2852    Odorrana wuchuanensis               59  MFTLKKSMLLLFFLGTISLSLC   \n",
       "SP_2853    Odorrana wuchuanensis               55  MFTLKKSLLLLFFLGTINLSLC   \n",
       "SP_2854    Odorrana wuchuanensis               67  MFTLKKSLLLIVLLGIISLSLC   \n",
       "SP_2855    Odorrana wuchuanensis               64  MFTLKKSLLLLFLLGTISLSLC   \n",
       "SP_Q09022         Xenopus laevis               84      MRYAIVFFLVCVITLGEA   \n",
       "\n",
       "                                          Bioactive sequence  \n",
       "DADP ID                                                       \n",
       "SP_P86816                                        APPGFTPFRIA  \n",
       "SP_P86817                                        APPGFTPFRID  \n",
       "SP_P86812                                          APPGFTPFR  \n",
       "SP_P86813                                         APPGFTPFRS  \n",
       "SP_P86814                                        APPGFTPFRSK  \n",
       "...                                                      ...  \n",
       "SP_2852                                        VFLGNIVSMGKKI  \n",
       "SP_2853                                   DAAVEPELYHWGKVWLPN  \n",
       "SP_2854                                 CVDIGFSPTGKRPPFCPYPG  \n",
       "SP_2855                                    VADKRPYILREKKSIPY  \n",
       "SP_Q09022  LKCVNLQANGIKMTQECAKEDTKCLTLRSLKKTLKFCASGRTCTTM...  \n",
       "\n",
       "[1650 rows x 7 columns]"
      ]
     },
     "execution_count": 4,
     "metadata": {},
     "output_type": "execute_result"
    }
   ],
   "source": [
    "posID_List = posDF[\"DADP ID\"].tolist()\n",
    "negDF = allDataDF.drop(posID_List)\n",
    "negDF"
   ]
  },
  {
   "cell_type": "code",
   "execution_count": 5,
   "metadata": {},
   "outputs": [],
   "source": [
    "\n",
    "# Filter out sequences containing invalid characters\n",
    "invalid_chars = \"/\"\n",
    "negDF = negDF[~negDF['Bioactive sequence'].str.contains(invalid_chars)]\n",
    "posDF = posDF[~posDF['Bioactive sequence'].str.contains(invalid_chars)]"
   ]
  },
  {
   "cell_type": "code",
   "execution_count": 6,
   "metadata": {},
   "outputs": [],
   "source": [
    "# Function to calculate physicochemical properties\n",
    "def calculate_physicochemical_properties(sequence):\n",
    "    analyzed_seq = ProteinAnalysis(sequence)\n",
    "    properties = {\n",
    "        'MolecularWeight': analyzed_seq.molecular_weight(),\n",
    "        'IsoelectricPoint': analyzed_seq.isoelectric_point(),\n",
    "        'Aromaticity': analyzed_seq.aromaticity(),\n",
    "        'InstabilityIndex': analyzed_seq.instability_index(),\n",
    "        'Hydrophobicity': analyzed_seq.gravy(),\n",
    "        'ChargeAtPH7': analyzed_seq.charge_at_pH(7.0)\n",
    "    }\n",
    "    return properties\n"
   ]
  },
  {
   "cell_type": "code",
   "execution_count": 7,
   "metadata": {},
   "outputs": [],
   "source": [
    "posDF['Properties'] = posDF['Bioactive sequence'].apply(calculate_physicochemical_properties)\n",
    "negDF['Properties'] = negDF['Bioactive sequence'].apply(calculate_physicochemical_properties)"
   ]
  },
  {
   "cell_type": "code",
   "execution_count": 8,
   "metadata": {},
   "outputs": [],
   "source": [
    " #Split properties into separate columns\n",
    "pos_properties = pd.DataFrame(posDF['Properties'].tolist(), index=posDF.index)\n",
    "neg_properties = pd.DataFrame(negDF['Properties'].tolist(), index=negDF.index)\n",
    "# Add value column for classification\n",
    "pos_properties['Value'] = 1\n",
    "neg_properties['Value'] = 0"
   ]
  },
  {
   "cell_type": "markdown",
   "metadata": {
    "id": "ljk8fFd6t9_W"
   },
   "source": [
    "Finally, we append the dataframes to each other, and we can also slice them down to just the bare bones of the data we need"
   ]
  },
  {
   "cell_type": "code",
   "execution_count": 9,
   "metadata": {
    "colab": {
     "base_uri": "https://localhost:8080/",
     "height": 450
    },
    "id": "tqp-yTi_q2lC",
    "outputId": "c1738e8d-7022-4659-e8df-47c117344e7e"
   },
   "outputs": [
    {
     "name": "stdout",
     "output_type": "stream",
     "text": [
      "           MolecularWeight  IsoelectricPoint  Aromaticity  InstabilityIndex  \\\n",
      "DADP ID                                                                       \n",
      "SP_P31107        3181.6835          9.701025     0.030303          7.272727   \n",
      "SP_2643          2279.6794          9.703153     0.043478        -12.986957   \n",
      "SP_2644          2293.7060          9.703153     0.043478         -4.613043   \n",
      "SP_2645          2266.6807          9.703153     0.043478         -4.613043   \n",
      "SP_2646          1583.9103          8.750052     0.000000         10.800000   \n",
      "...                    ...               ...          ...               ...   \n",
      "SP_2852          1405.7470         10.002350     0.076923         16.907692   \n",
      "SP_2853          2124.3526          4.651158     0.166667         37.416667   \n",
      "SP_2854          2138.4670          8.045284     0.150000         72.685000   \n",
      "SP_2855          2076.4408          9.820679     0.117647         50.894118   \n",
      "SP_Q09022        7235.6096          8.884082     0.015152         44.725758   \n",
      "\n",
      "           Hydrophobicity  ChargeAtPH7  Value  \n",
      "DADP ID                                        \n",
      "SP_P31107        0.196970     2.762539      1  \n",
      "SP_2643          0.630435     1.845400      1  \n",
      "SP_2644          0.630435     1.847089      1  \n",
      "SP_2645          0.747826     1.847089      1  \n",
      "SP_2646          1.275000     0.759103      1  \n",
      "...                   ...          ...    ...  \n",
      "SP_2852          1.000000     1.731990      0  \n",
      "SP_2853         -0.455556    -2.147981      0  \n",
      "SP_2854         -0.230000     0.739412      0  \n",
      "SP_2855         -0.911765     2.732905      0  \n",
      "SP_Q09022       -0.174242     4.685244      0  \n",
      "\n",
      "[2566 rows x 7 columns]\n"
     ]
    }
   ],
   "source": [
    "# Combine positive and negative dataframes\n",
    "all_properties = pd.concat([pos_properties, neg_properties])\n",
    "print(all_properties)"
   ]
  },
  {
   "cell_type": "markdown",
   "metadata": {
    "id": "DXU3B9D5qenD"
   },
   "source": [
    "# Feature Extraction:\n",
    "Describe what feature extraction you intend to implement and why\n",
    "For example, will you convert text to document-term matrix, or TF-IDF matrix, or to word (or sentence) vectors?\n",
    "\n",
    "The characters that represent each amino acid would be converted to vectors using one hot encoding as these are individual charaters and not words in a document as the usual cases\n"
   ]
  },
  {
   "cell_type": "markdown",
   "metadata": {
    "id": "wRW18oFCqhH5"
   },
   "source": [
    "#The Model:\n",
    "- Explain what model you are trying to build to attain your final goal.\n",
    "- You need to convince the audience that you understand the model, its inputs, outputs and what it does. You do not need to build the model in the proposal.\n",
    "- FYI: We always build models iteratively - starting with the simplest version (called baseline model) and progressing to more advanced (by adding features, tuning model parameters, combining models, etc.)\n"
   ]
  },
  {
   "cell_type": "markdown",
   "metadata": {
    "id": "beE8L4Xd3kNR"
   },
   "source": [
    "**We will be utilizing supervised machine learning and building a classification model. It would either be a simple multi-class logistic regression model or a neural networks based model. We are dividing the components of the model as below:**\n",
    "\n",
    "**Inputs:** <br>\n",
    "The inputs of the model will be a training feature matrix. Each row of this matrix represents one peptide and will be the result of the preprocessing and feature extraction steps outlined above. The size of this matrix will be (n x d). n represents the number of training examples of peptides. d is the size of the dimension of the extracted feature vector. This matrix will map to training labels of size (n,). Each peptide will map to either a 0 or 1.\n",
    "\n",
    "**Training:** <br>\n",
    "The inputs (80% of the data) will be fed into our classification model that will learn the parameters to map the input vectors to their corresponding outputs in the optimial way. These learned parameters will be frozen and our model will be able to use these parameters to make predictions on unseen instances.\n",
    "\n",
    "**Prediction:**<br>\n",
    "Once trained, the model will be leveraged to create predictions for the test set (rest 20% of the data). The model has not seen these instances during training process. We will create these predictions and evaluate how well the model has learned based on the training data.\n"
   ]
  },
  {
   "cell_type": "code",
   "execution_count": 10,
   "metadata": {
    "colab": {
     "base_uri": "https://localhost:8080/",
     "height": 255
    },
    "id": "ro16TyeOqmnZ",
    "outputId": "72184a35-489c-482f-9c5b-324602908b9d"
   },
   "outputs": [],
   "source": [
    "#Splitting the dataset into train and test\n",
    "from sklearn.feature_extraction.text import CountVectorizer, TfidfTransformer, HashingVectorizer\n",
    "from sklearn.model_selection import train_test_split as tts\n",
    "X = all_properties.drop('Value', axis=1)\n",
    "y = all_properties['Value']\n",
    "\n",
    "X_train, X_test, y_train, y_test = tts(X, y, test_size=0.2, random_state=0)"
   ]
  },
  {
   "cell_type": "code",
   "execution_count": 11,
   "metadata": {
    "colab": {
     "base_uri": "https://localhost:8080/",
     "height": 34
    },
    "id": "QEpaLZeKSN5P",
    "outputId": "ce6c40ce-5c3b-4203-b339-29fd7c80c83a"
   },
   "outputs": [],
   "source": [
    "scaler = StandardScaler()\n",
    "X_train = scaler.fit_transform(X_train)\n",
    "X_test = scaler.transform(X_test)"
   ]
  },
  {
   "cell_type": "markdown",
   "metadata": {
    "id": "9-CZsS_rqpS9"
   },
   "source": [
    "#Evaluation Metrics:\n",
    "- Describe evaluation metrics you are planning on using. Convince the audience that you understand how these metrics are used and interpreted.\n"
   ]
  },
  {
   "cell_type": "markdown",
   "metadata": {
    "id": "Ul-D9UCa_kHg"
   },
   "source": [
    "**Since the purpose of this activity is to identify as many new drugs as possible in an efficient manner.\n",
    "We will look at a validation set of peptides and identify how well our discovery process worked against them. We plan to rely on basic classification metrics namely:**\n",
    "\n",
    "1. Accuracy score\n",
    "2. Sensitivity\n",
    "3. Specificity\n",
    "\n",
    "**The Accuracy score will give us an overall indication of model performance. Since we are dealing with drug discovery (and eventhough peptides are not to have side-effects), it would be preferable to keep incorrect classifications in check and so tracking false positives is deemed important. Therefore, we will plan to also rely on Specificity measures.**"
   ]
  },
  {
   "cell_type": "markdown",
   "metadata": {
    "id": "vdVPpOEsquRm"
   },
   "source": [
    "# Interpretation of results:\n",
    "In proposal you need to explain\n",
    "- what you expect to see as a result (favorable or unfavorable)\n",
    "- what these results mean\n",
    "- how you will react to these results. that is: what will you try to modify about your process to improve final results\n"
   ]
  },
  {
   "cell_type": "markdown",
   "metadata": {
    "id": "JGREQ3-VExMK"
   },
   "source": [
    "**From the model, we expect to see encouraging model evaluation scores. This would enable us to be confident about our drug discoveries.**\n",
    "\n",
    "**A higher accuracy lends itself to the idea that the model is working as expected and can be relied on for the task of identifying and discovering potentially new therapeutic drugs.**\n",
    "\n",
    "The nature of this problem warrants a high accuracy score and that is where our post model enhancements will mostly be directed to. We would like to use more complex classification models and model ensembles to see how we can squeeze ut as muc predictability from the model as possible.\n",
    "Additionally, we feel that collecting more training data to train the model could prove to be useful so that we can capture as much variance in the data and the occurence of amino acid sequences.\n",
    "Lastly, using other methodologies to extract embeddings can also be a worthwile effort in the event we can extract more predictive vectors from the GloVe model for example."
   ]
  },
  {
   "cell_type": "code",
   "execution_count": 12,
   "metadata": {},
   "outputs": [],
   "source": [
    "# Assuming the below dataset names for now\n",
    "\n",
    "import pandas as pd\n",
    "import numpy as np\n",
    "from sklearn.metrics import roc_auc_score, accuracy_score, precision_score, recall_score, f1_score\n",
    "from sklearn.linear_model import LogisticRegression\n",
    "from sklearn.tree import DecisionTreeClassifier\n",
    "from sklearn.svm import SVC\n",
    "from sklearn.ensemble import RandomForestClassifier\n",
    "from sklearn.discriminant_analysis import LinearDiscriminantAnalysis, QuadraticDiscriminantAnalysis\n",
    "from sklearn.cluster import KMeans\n",
    "from sklearn.neighbors import KNeighborsClassifier\n",
    "from sklearn.metrics import classification_report\n",
    "from sklearn.naive_bayes import GaussianNB\n",
    "from sklearn.metrics import precision_recall_fscore_support\n",
    "from sklearn.metrics import mean_squared_error as mse\n",
    "from sklearn.preprocessing import StandardScaler\n",
    "from sklearn.model_selection import cross_validate\n",
    "from sklearn.model_selection import train_test_split\n",
    "from sklearn.ensemble import ExtraTreesClassifier\n",
    "from sklearn.feature_selection import SelectFromModel\n",
    "from sklearn.svm import LinearSVC\n",
    "from sklearn.ensemble import VotingClassifier\n",
    "from sklearn.feature_selection import RFECV\n",
    "from sklearn.neural_network import MLPClassifier\n",
    "from sklearn.model_selection import cross_validate, GridSearchCV\n",
    "import warnings\n",
    "warnings.filterwarnings('ignore')"
   ]
  },
  {
   "cell_type": "code",
   "execution_count": 13,
   "metadata": {},
   "outputs": [
    {
     "name": "stdout",
     "output_type": "stream",
     "text": [
      "Logistic Regression with Hyperparameter Tuning\n",
      "Fit Time: 0.03540070056915283\n",
      "Score Time: 0.028239691257476808\n",
      "Accuracy: 0.6359699219493622\n",
      "Precision: 0.3179849609746811\n",
      "Recall: 0.5\n",
      "F1 Score: 0.4944629928670601\n",
      "ROC AUC: 0.638692640929483\n"
     ]
    }
   ],
   "source": [
    "param_grid_lr = {\n",
    "    'penalty': ['l1', 'l2', 'elasticnet', 'none'],\n",
    "    'C': [0.01, 0.1, 1, 10, 100],\n",
    "    'solver': ['liblinear', 'saga']\n",
    "}\n",
    "\n",
    "# Initialize Logistic Regression model\n",
    "LR = LogisticRegression(max_iter=1000)\n",
    "\n",
    "# Use GridSearchCV for hyperparameter tuning\n",
    "grid_search_lr = GridSearchCV(LR, param_grid_lr, scoring='accuracy', cv=5, n_jobs=-1)\n",
    "grid_search_lr.fit(X_train, y_train)\n",
    "\n",
    "# Best model after hyperparameter tuning\n",
    "best_LR = grid_search_lr.best_estimator_\n",
    "\n",
    "# Evaluate the tuned model using cross-validation\n",
    "scoring = ['accuracy', 'precision_macro', 'recall_macro', 'f1_weighted', 'roc_auc']\n",
    "scores = cross_validate(best_LR, X_train, y_train, scoring=scoring, cv=20)\n",
    "\n",
    "# Extract and print the evaluation metrics\n",
    "LR_fit_time = scores['fit_time'].mean()\n",
    "LR_score_time = scores['score_time'].mean()\n",
    "LR_accuracy = scores['test_accuracy'].mean()\n",
    "LR_precision = scores['test_precision_macro'].mean()\n",
    "LR_recall = scores['test_recall_macro'].mean()\n",
    "LR_f1 = scores['test_f1_weighted'].mean()\n",
    "LR_roc = scores['test_roc_auc'].mean()\n",
    "\n",
    "print(f\"Logistic Regression with Hyperparameter Tuning\")\n",
    "print(f\"Fit Time: {LR_fit_time}\")\n",
    "print(f\"Score Time: {LR_score_time}\")\n",
    "print(f\"Accuracy: {LR_accuracy}\")\n",
    "print(f\"Precision: {LR_precision}\")\n",
    "print(f\"Recall: {LR_recall}\")\n",
    "print(f\"F1 Score: {LR_f1}\")\n",
    "print(f\"ROC AUC: {LR_roc}\")"
   ]
  },
  {
   "cell_type": "code",
   "execution_count": 14,
   "metadata": {
    "id": "9fpdZJNvQuU3"
   },
   "outputs": [
    {
     "data": {
      "text/html": [
       "<style>#sk-container-id-1 {color: black;}#sk-container-id-1 pre{padding: 0;}#sk-container-id-1 div.sk-toggleable {background-color: white;}#sk-container-id-1 label.sk-toggleable__label {cursor: pointer;display: block;width: 100%;margin-bottom: 0;padding: 0.3em;box-sizing: border-box;text-align: center;}#sk-container-id-1 label.sk-toggleable__label-arrow:before {content: \"▸\";float: left;margin-right: 0.25em;color: #696969;}#sk-container-id-1 label.sk-toggleable__label-arrow:hover:before {color: black;}#sk-container-id-1 div.sk-estimator:hover label.sk-toggleable__label-arrow:before {color: black;}#sk-container-id-1 div.sk-toggleable__content {max-height: 0;max-width: 0;overflow: hidden;text-align: left;background-color: #f0f8ff;}#sk-container-id-1 div.sk-toggleable__content pre {margin: 0.2em;color: black;border-radius: 0.25em;background-color: #f0f8ff;}#sk-container-id-1 input.sk-toggleable__control:checked~div.sk-toggleable__content {max-height: 200px;max-width: 100%;overflow: auto;}#sk-container-id-1 input.sk-toggleable__control:checked~label.sk-toggleable__label-arrow:before {content: \"▾\";}#sk-container-id-1 div.sk-estimator input.sk-toggleable__control:checked~label.sk-toggleable__label {background-color: #d4ebff;}#sk-container-id-1 div.sk-label input.sk-toggleable__control:checked~label.sk-toggleable__label {background-color: #d4ebff;}#sk-container-id-1 input.sk-hidden--visually {border: 0;clip: rect(1px 1px 1px 1px);clip: rect(1px, 1px, 1px, 1px);height: 1px;margin: -1px;overflow: hidden;padding: 0;position: absolute;width: 1px;}#sk-container-id-1 div.sk-estimator {font-family: monospace;background-color: #f0f8ff;border: 1px dotted black;border-radius: 0.25em;box-sizing: border-box;margin-bottom: 0.5em;}#sk-container-id-1 div.sk-estimator:hover {background-color: #d4ebff;}#sk-container-id-1 div.sk-parallel-item::after {content: \"\";width: 100%;border-bottom: 1px solid gray;flex-grow: 1;}#sk-container-id-1 div.sk-label:hover label.sk-toggleable__label {background-color: #d4ebff;}#sk-container-id-1 div.sk-serial::before {content: \"\";position: absolute;border-left: 1px solid gray;box-sizing: border-box;top: 0;bottom: 0;left: 50%;z-index: 0;}#sk-container-id-1 div.sk-serial {display: flex;flex-direction: column;align-items: center;background-color: white;padding-right: 0.2em;padding-left: 0.2em;position: relative;}#sk-container-id-1 div.sk-item {position: relative;z-index: 1;}#sk-container-id-1 div.sk-parallel {display: flex;align-items: stretch;justify-content: center;background-color: white;position: relative;}#sk-container-id-1 div.sk-item::before, #sk-container-id-1 div.sk-parallel-item::before {content: \"\";position: absolute;border-left: 1px solid gray;box-sizing: border-box;top: 0;bottom: 0;left: 50%;z-index: -1;}#sk-container-id-1 div.sk-parallel-item {display: flex;flex-direction: column;z-index: 1;position: relative;background-color: white;}#sk-container-id-1 div.sk-parallel-item:first-child::after {align-self: flex-end;width: 50%;}#sk-container-id-1 div.sk-parallel-item:last-child::after {align-self: flex-start;width: 50%;}#sk-container-id-1 div.sk-parallel-item:only-child::after {width: 0;}#sk-container-id-1 div.sk-dashed-wrapped {border: 1px dashed gray;margin: 0 0.4em 0.5em 0.4em;box-sizing: border-box;padding-bottom: 0.4em;background-color: white;}#sk-container-id-1 div.sk-label label {font-family: monospace;font-weight: bold;display: inline-block;line-height: 1.2em;}#sk-container-id-1 div.sk-label-container {text-align: center;}#sk-container-id-1 div.sk-container {/* jupyter's `normalize.less` sets `[hidden] { display: none; }` but bootstrap.min.css set `[hidden] { display: none !important; }` so we also need the `!important` here to be able to override the default hidden behavior on the sphinx rendered scikit-learn.org. See: https://github.com/scikit-learn/scikit-learn/issues/21755 */display: inline-block !important;position: relative;}#sk-container-id-1 div.sk-text-repr-fallback {display: none;}</style><div id=\"sk-container-id-1\" class=\"sk-top-container\"><div class=\"sk-text-repr-fallback\"><pre>LogisticRegression()</pre><b>In a Jupyter environment, please rerun this cell to show the HTML representation or trust the notebook. <br />On GitHub, the HTML representation is unable to render, please try loading this page with nbviewer.org.</b></div><div class=\"sk-container\" hidden><div class=\"sk-item\"><div class=\"sk-estimator sk-toggleable\"><input class=\"sk-toggleable__control sk-hidden--visually\" id=\"sk-estimator-id-1\" type=\"checkbox\" checked><label for=\"sk-estimator-id-1\" class=\"sk-toggleable__label sk-toggleable__label-arrow\">LogisticRegression</label><div class=\"sk-toggleable__content\"><pre>LogisticRegression()</pre></div></div></div></div></div>"
      ],
      "text/plain": [
       "LogisticRegression()"
      ]
     },
     "execution_count": 14,
     "metadata": {},
     "output_type": "execute_result"
    }
   ],
   "source": [
    "LR = LogisticRegression()\n",
    "\n",
    "scoring = ['accuracy', 'precision_macro', 'recall_macro' , 'f1_weighted', 'roc_auc']\n",
    "scores = cross_validate(LR, X_train, y_train, scoring=scoring, cv=20)\n",
    "\n",
    "sorted(scores.keys())\n",
    "LR_fit_time = scores['fit_time'].mean()\n",
    "LR_score_time = scores['score_time'].mean()\n",
    "LR_accuracy = scores['test_accuracy'].mean()\n",
    "LR_precision = scores['test_precision_macro'].mean()\n",
    "LR_recall = scores['test_recall_macro'].mean()\n",
    "LR_f1 = scores['test_f1_weighted'].mean()\n",
    "LR_roc = scores['test_roc_auc'].mean()\n",
    "\n",
    "LR.fit(X_train,y_train)"
   ]
  },
  {
   "cell_type": "code",
   "execution_count": 15,
   "metadata": {
    "id": "7P5riwm5RJiv"
   },
   "outputs": [
    {
     "data": {
      "text/html": [
       "<style>#sk-container-id-2 {color: black;}#sk-container-id-2 pre{padding: 0;}#sk-container-id-2 div.sk-toggleable {background-color: white;}#sk-container-id-2 label.sk-toggleable__label {cursor: pointer;display: block;width: 100%;margin-bottom: 0;padding: 0.3em;box-sizing: border-box;text-align: center;}#sk-container-id-2 label.sk-toggleable__label-arrow:before {content: \"▸\";float: left;margin-right: 0.25em;color: #696969;}#sk-container-id-2 label.sk-toggleable__label-arrow:hover:before {color: black;}#sk-container-id-2 div.sk-estimator:hover label.sk-toggleable__label-arrow:before {color: black;}#sk-container-id-2 div.sk-toggleable__content {max-height: 0;max-width: 0;overflow: hidden;text-align: left;background-color: #f0f8ff;}#sk-container-id-2 div.sk-toggleable__content pre {margin: 0.2em;color: black;border-radius: 0.25em;background-color: #f0f8ff;}#sk-container-id-2 input.sk-toggleable__control:checked~div.sk-toggleable__content {max-height: 200px;max-width: 100%;overflow: auto;}#sk-container-id-2 input.sk-toggleable__control:checked~label.sk-toggleable__label-arrow:before {content: \"▾\";}#sk-container-id-2 div.sk-estimator input.sk-toggleable__control:checked~label.sk-toggleable__label {background-color: #d4ebff;}#sk-container-id-2 div.sk-label input.sk-toggleable__control:checked~label.sk-toggleable__label {background-color: #d4ebff;}#sk-container-id-2 input.sk-hidden--visually {border: 0;clip: rect(1px 1px 1px 1px);clip: rect(1px, 1px, 1px, 1px);height: 1px;margin: -1px;overflow: hidden;padding: 0;position: absolute;width: 1px;}#sk-container-id-2 div.sk-estimator {font-family: monospace;background-color: #f0f8ff;border: 1px dotted black;border-radius: 0.25em;box-sizing: border-box;margin-bottom: 0.5em;}#sk-container-id-2 div.sk-estimator:hover {background-color: #d4ebff;}#sk-container-id-2 div.sk-parallel-item::after {content: \"\";width: 100%;border-bottom: 1px solid gray;flex-grow: 1;}#sk-container-id-2 div.sk-label:hover label.sk-toggleable__label {background-color: #d4ebff;}#sk-container-id-2 div.sk-serial::before {content: \"\";position: absolute;border-left: 1px solid gray;box-sizing: border-box;top: 0;bottom: 0;left: 50%;z-index: 0;}#sk-container-id-2 div.sk-serial {display: flex;flex-direction: column;align-items: center;background-color: white;padding-right: 0.2em;padding-left: 0.2em;position: relative;}#sk-container-id-2 div.sk-item {position: relative;z-index: 1;}#sk-container-id-2 div.sk-parallel {display: flex;align-items: stretch;justify-content: center;background-color: white;position: relative;}#sk-container-id-2 div.sk-item::before, #sk-container-id-2 div.sk-parallel-item::before {content: \"\";position: absolute;border-left: 1px solid gray;box-sizing: border-box;top: 0;bottom: 0;left: 50%;z-index: -1;}#sk-container-id-2 div.sk-parallel-item {display: flex;flex-direction: column;z-index: 1;position: relative;background-color: white;}#sk-container-id-2 div.sk-parallel-item:first-child::after {align-self: flex-end;width: 50%;}#sk-container-id-2 div.sk-parallel-item:last-child::after {align-self: flex-start;width: 50%;}#sk-container-id-2 div.sk-parallel-item:only-child::after {width: 0;}#sk-container-id-2 div.sk-dashed-wrapped {border: 1px dashed gray;margin: 0 0.4em 0.5em 0.4em;box-sizing: border-box;padding-bottom: 0.4em;background-color: white;}#sk-container-id-2 div.sk-label label {font-family: monospace;font-weight: bold;display: inline-block;line-height: 1.2em;}#sk-container-id-2 div.sk-label-container {text-align: center;}#sk-container-id-2 div.sk-container {/* jupyter's `normalize.less` sets `[hidden] { display: none; }` but bootstrap.min.css set `[hidden] { display: none !important; }` so we also need the `!important` here to be able to override the default hidden behavior on the sphinx rendered scikit-learn.org. See: https://github.com/scikit-learn/scikit-learn/issues/21755 */display: inline-block !important;position: relative;}#sk-container-id-2 div.sk-text-repr-fallback {display: none;}</style><div id=\"sk-container-id-2\" class=\"sk-top-container\"><div class=\"sk-text-repr-fallback\"><pre>SVC(probability=True)</pre><b>In a Jupyter environment, please rerun this cell to show the HTML representation or trust the notebook. <br />On GitHub, the HTML representation is unable to render, please try loading this page with nbviewer.org.</b></div><div class=\"sk-container\" hidden><div class=\"sk-item\"><div class=\"sk-estimator sk-toggleable\"><input class=\"sk-toggleable__control sk-hidden--visually\" id=\"sk-estimator-id-2\" type=\"checkbox\" checked><label for=\"sk-estimator-id-2\" class=\"sk-toggleable__label sk-toggleable__label-arrow\">SVC</label><div class=\"sk-toggleable__content\"><pre>SVC(probability=True)</pre></div></div></div></div></div>"
      ],
      "text/plain": [
       "SVC(probability=True)"
      ]
     },
     "execution_count": 15,
     "metadata": {},
     "output_type": "execute_result"
    }
   ],
   "source": [
    "SVM = SVC(probability = True)\n",
    "\n",
    "scoring = ['accuracy','precision_macro', 'recall_macro' , 'f1_weighted', 'roc_auc']\n",
    "scores = cross_validate(SVM, X_train, y_train, scoring=scoring, cv=20)\n",
    "\n",
    "sorted(scores.keys())\n",
    "SVM_fit_time = scores['fit_time'].mean()\n",
    "SVM_score_time = scores['score_time'].mean()\n",
    "SVM_accuracy = scores['test_accuracy'].mean()\n",
    "SVM_precision = scores['test_precision_macro'].mean()\n",
    "SVM_recall = scores['test_recall_macro'].mean()\n",
    "SVM_f1 = scores['test_f1_weighted'].mean()\n",
    "SVM_roc = scores['test_roc_auc'].mean()\n",
    "\n",
    "SVM.fit(X_train,y_train)\n",
    "# Evaluate the tuned model using cross-validation\n",
    "scoring = ['accuracy', 'precision_macro', 'recall_macro', 'f1_weighted', 'roc_auc']\n",
    "scores = cross_validate(SVM, X_train, y_train, scoring=scoring, cv=20)\n",
    "\n",
    "\n",
    "SVM.fit(X_train,y_train)"
   ]
  },
  {
   "cell_type": "code",
   "execution_count": 16,
   "metadata": {
    "id": "VPjDPQ2WRLul"
   },
   "outputs": [
    {
     "data": {
      "text/html": [
       "<style>#sk-container-id-3 {color: black;}#sk-container-id-3 pre{padding: 0;}#sk-container-id-3 div.sk-toggleable {background-color: white;}#sk-container-id-3 label.sk-toggleable__label {cursor: pointer;display: block;width: 100%;margin-bottom: 0;padding: 0.3em;box-sizing: border-box;text-align: center;}#sk-container-id-3 label.sk-toggleable__label-arrow:before {content: \"▸\";float: left;margin-right: 0.25em;color: #696969;}#sk-container-id-3 label.sk-toggleable__label-arrow:hover:before {color: black;}#sk-container-id-3 div.sk-estimator:hover label.sk-toggleable__label-arrow:before {color: black;}#sk-container-id-3 div.sk-toggleable__content {max-height: 0;max-width: 0;overflow: hidden;text-align: left;background-color: #f0f8ff;}#sk-container-id-3 div.sk-toggleable__content pre {margin: 0.2em;color: black;border-radius: 0.25em;background-color: #f0f8ff;}#sk-container-id-3 input.sk-toggleable__control:checked~div.sk-toggleable__content {max-height: 200px;max-width: 100%;overflow: auto;}#sk-container-id-3 input.sk-toggleable__control:checked~label.sk-toggleable__label-arrow:before {content: \"▾\";}#sk-container-id-3 div.sk-estimator input.sk-toggleable__control:checked~label.sk-toggleable__label {background-color: #d4ebff;}#sk-container-id-3 div.sk-label input.sk-toggleable__control:checked~label.sk-toggleable__label {background-color: #d4ebff;}#sk-container-id-3 input.sk-hidden--visually {border: 0;clip: rect(1px 1px 1px 1px);clip: rect(1px, 1px, 1px, 1px);height: 1px;margin: -1px;overflow: hidden;padding: 0;position: absolute;width: 1px;}#sk-container-id-3 div.sk-estimator {font-family: monospace;background-color: #f0f8ff;border: 1px dotted black;border-radius: 0.25em;box-sizing: border-box;margin-bottom: 0.5em;}#sk-container-id-3 div.sk-estimator:hover {background-color: #d4ebff;}#sk-container-id-3 div.sk-parallel-item::after {content: \"\";width: 100%;border-bottom: 1px solid gray;flex-grow: 1;}#sk-container-id-3 div.sk-label:hover label.sk-toggleable__label {background-color: #d4ebff;}#sk-container-id-3 div.sk-serial::before {content: \"\";position: absolute;border-left: 1px solid gray;box-sizing: border-box;top: 0;bottom: 0;left: 50%;z-index: 0;}#sk-container-id-3 div.sk-serial {display: flex;flex-direction: column;align-items: center;background-color: white;padding-right: 0.2em;padding-left: 0.2em;position: relative;}#sk-container-id-3 div.sk-item {position: relative;z-index: 1;}#sk-container-id-3 div.sk-parallel {display: flex;align-items: stretch;justify-content: center;background-color: white;position: relative;}#sk-container-id-3 div.sk-item::before, #sk-container-id-3 div.sk-parallel-item::before {content: \"\";position: absolute;border-left: 1px solid gray;box-sizing: border-box;top: 0;bottom: 0;left: 50%;z-index: -1;}#sk-container-id-3 div.sk-parallel-item {display: flex;flex-direction: column;z-index: 1;position: relative;background-color: white;}#sk-container-id-3 div.sk-parallel-item:first-child::after {align-self: flex-end;width: 50%;}#sk-container-id-3 div.sk-parallel-item:last-child::after {align-self: flex-start;width: 50%;}#sk-container-id-3 div.sk-parallel-item:only-child::after {width: 0;}#sk-container-id-3 div.sk-dashed-wrapped {border: 1px dashed gray;margin: 0 0.4em 0.5em 0.4em;box-sizing: border-box;padding-bottom: 0.4em;background-color: white;}#sk-container-id-3 div.sk-label label {font-family: monospace;font-weight: bold;display: inline-block;line-height: 1.2em;}#sk-container-id-3 div.sk-label-container {text-align: center;}#sk-container-id-3 div.sk-container {/* jupyter's `normalize.less` sets `[hidden] { display: none; }` but bootstrap.min.css set `[hidden] { display: none !important; }` so we also need the `!important` here to be able to override the default hidden behavior on the sphinx rendered scikit-learn.org. See: https://github.com/scikit-learn/scikit-learn/issues/21755 */display: inline-block !important;position: relative;}#sk-container-id-3 div.sk-text-repr-fallback {display: none;}</style><div id=\"sk-container-id-3\" class=\"sk-top-container\"><div class=\"sk-text-repr-fallback\"><pre>DecisionTreeClassifier()</pre><b>In a Jupyter environment, please rerun this cell to show the HTML representation or trust the notebook. <br />On GitHub, the HTML representation is unable to render, please try loading this page with nbviewer.org.</b></div><div class=\"sk-container\" hidden><div class=\"sk-item\"><div class=\"sk-estimator sk-toggleable\"><input class=\"sk-toggleable__control sk-hidden--visually\" id=\"sk-estimator-id-3\" type=\"checkbox\" checked><label for=\"sk-estimator-id-3\" class=\"sk-toggleable__label sk-toggleable__label-arrow\">DecisionTreeClassifier</label><div class=\"sk-toggleable__content\"><pre>DecisionTreeClassifier()</pre></div></div></div></div></div>"
      ],
      "text/plain": [
       "DecisionTreeClassifier()"
      ]
     },
     "execution_count": 16,
     "metadata": {},
     "output_type": "execute_result"
    }
   ],
   "source": [
    "decision_tree = DecisionTreeClassifier()\n",
    "\n",
    "scoring = ['accuracy', 'precision_macro', 'recall_macro' , 'f1_weighted', 'roc_auc']\n",
    "scores = cross_validate(decision_tree, X_train, y_train, scoring=scoring, cv=20)\n",
    "\n",
    "sorted(scores.keys())\n",
    "dtree_fit_time = scores['fit_time'].mean()\n",
    "dtree_score_time = scores['score_time'].mean()\n",
    "dtree_accuracy = scores['test_accuracy'].mean()\n",
    "dtree_precision = scores['test_precision_macro'].mean()\n",
    "dtree_recall = scores['test_recall_macro'].mean()\n",
    "dtree_f1 = scores['test_f1_weighted'].mean()\n",
    "dtree_roc = scores['test_roc_auc'].mean()\n",
    "\n",
    "decision_tree.fit(X_train,y_train)"
   ]
  },
  {
   "cell_type": "code",
   "execution_count": 17,
   "metadata": {
    "id": "M1Wtz1zPRNum"
   },
   "outputs": [
    {
     "data": {
      "text/html": [
       "<style>#sk-container-id-4 {color: black;}#sk-container-id-4 pre{padding: 0;}#sk-container-id-4 div.sk-toggleable {background-color: white;}#sk-container-id-4 label.sk-toggleable__label {cursor: pointer;display: block;width: 100%;margin-bottom: 0;padding: 0.3em;box-sizing: border-box;text-align: center;}#sk-container-id-4 label.sk-toggleable__label-arrow:before {content: \"▸\";float: left;margin-right: 0.25em;color: #696969;}#sk-container-id-4 label.sk-toggleable__label-arrow:hover:before {color: black;}#sk-container-id-4 div.sk-estimator:hover label.sk-toggleable__label-arrow:before {color: black;}#sk-container-id-4 div.sk-toggleable__content {max-height: 0;max-width: 0;overflow: hidden;text-align: left;background-color: #f0f8ff;}#sk-container-id-4 div.sk-toggleable__content pre {margin: 0.2em;color: black;border-radius: 0.25em;background-color: #f0f8ff;}#sk-container-id-4 input.sk-toggleable__control:checked~div.sk-toggleable__content {max-height: 200px;max-width: 100%;overflow: auto;}#sk-container-id-4 input.sk-toggleable__control:checked~label.sk-toggleable__label-arrow:before {content: \"▾\";}#sk-container-id-4 div.sk-estimator input.sk-toggleable__control:checked~label.sk-toggleable__label {background-color: #d4ebff;}#sk-container-id-4 div.sk-label input.sk-toggleable__control:checked~label.sk-toggleable__label {background-color: #d4ebff;}#sk-container-id-4 input.sk-hidden--visually {border: 0;clip: rect(1px 1px 1px 1px);clip: rect(1px, 1px, 1px, 1px);height: 1px;margin: -1px;overflow: hidden;padding: 0;position: absolute;width: 1px;}#sk-container-id-4 div.sk-estimator {font-family: monospace;background-color: #f0f8ff;border: 1px dotted black;border-radius: 0.25em;box-sizing: border-box;margin-bottom: 0.5em;}#sk-container-id-4 div.sk-estimator:hover {background-color: #d4ebff;}#sk-container-id-4 div.sk-parallel-item::after {content: \"\";width: 100%;border-bottom: 1px solid gray;flex-grow: 1;}#sk-container-id-4 div.sk-label:hover label.sk-toggleable__label {background-color: #d4ebff;}#sk-container-id-4 div.sk-serial::before {content: \"\";position: absolute;border-left: 1px solid gray;box-sizing: border-box;top: 0;bottom: 0;left: 50%;z-index: 0;}#sk-container-id-4 div.sk-serial {display: flex;flex-direction: column;align-items: center;background-color: white;padding-right: 0.2em;padding-left: 0.2em;position: relative;}#sk-container-id-4 div.sk-item {position: relative;z-index: 1;}#sk-container-id-4 div.sk-parallel {display: flex;align-items: stretch;justify-content: center;background-color: white;position: relative;}#sk-container-id-4 div.sk-item::before, #sk-container-id-4 div.sk-parallel-item::before {content: \"\";position: absolute;border-left: 1px solid gray;box-sizing: border-box;top: 0;bottom: 0;left: 50%;z-index: -1;}#sk-container-id-4 div.sk-parallel-item {display: flex;flex-direction: column;z-index: 1;position: relative;background-color: white;}#sk-container-id-4 div.sk-parallel-item:first-child::after {align-self: flex-end;width: 50%;}#sk-container-id-4 div.sk-parallel-item:last-child::after {align-self: flex-start;width: 50%;}#sk-container-id-4 div.sk-parallel-item:only-child::after {width: 0;}#sk-container-id-4 div.sk-dashed-wrapped {border: 1px dashed gray;margin: 0 0.4em 0.5em 0.4em;box-sizing: border-box;padding-bottom: 0.4em;background-color: white;}#sk-container-id-4 div.sk-label label {font-family: monospace;font-weight: bold;display: inline-block;line-height: 1.2em;}#sk-container-id-4 div.sk-label-container {text-align: center;}#sk-container-id-4 div.sk-container {/* jupyter's `normalize.less` sets `[hidden] { display: none; }` but bootstrap.min.css set `[hidden] { display: none !important; }` so we also need the `!important` here to be able to override the default hidden behavior on the sphinx rendered scikit-learn.org. See: https://github.com/scikit-learn/scikit-learn/issues/21755 */display: inline-block !important;position: relative;}#sk-container-id-4 div.sk-text-repr-fallback {display: none;}</style><div id=\"sk-container-id-4\" class=\"sk-top-container\"><div class=\"sk-text-repr-fallback\"><pre>LinearDiscriminantAnalysis()</pre><b>In a Jupyter environment, please rerun this cell to show the HTML representation or trust the notebook. <br />On GitHub, the HTML representation is unable to render, please try loading this page with nbviewer.org.</b></div><div class=\"sk-container\" hidden><div class=\"sk-item\"><div class=\"sk-estimator sk-toggleable\"><input class=\"sk-toggleable__control sk-hidden--visually\" id=\"sk-estimator-id-4\" type=\"checkbox\" checked><label for=\"sk-estimator-id-4\" class=\"sk-toggleable__label sk-toggleable__label-arrow\">LinearDiscriminantAnalysis</label><div class=\"sk-toggleable__content\"><pre>LinearDiscriminantAnalysis()</pre></div></div></div></div></div>"
      ],
      "text/plain": [
       "LinearDiscriminantAnalysis()"
      ]
     },
     "execution_count": 17,
     "metadata": {},
     "output_type": "execute_result"
    }
   ],
   "source": [
    "LDA = LinearDiscriminantAnalysis()\n",
    "\n",
    "scoring = ['accuracy', 'precision_macro', 'recall_macro' , 'f1_weighted', 'roc_auc']\n",
    "scores = cross_validate(LDA, X_train, y_train, scoring=scoring, cv=20)\n",
    "\n",
    "sorted(scores.keys())\n",
    "LDA_fit_time = scores['fit_time'].mean()\n",
    "LDA_score_time = scores['score_time'].mean()\n",
    "LDA_accuracy = scores['test_accuracy'].mean()\n",
    "LDA_precision = scores['test_precision_macro'].mean()\n",
    "LDA_recall = scores['test_recall_macro'].mean()\n",
    "LDA_f1 = scores['test_f1_weighted'].mean()\n",
    "LDA_roc = scores['test_roc_auc'].mean()\n",
    "\n",
    "LDA.fit(X_train,y_train)"
   ]
  },
  {
   "cell_type": "code",
   "execution_count": 18,
   "metadata": {
    "id": "fny0qV9qRP_V"
   },
   "outputs": [
    {
     "data": {
      "text/html": [
       "<style>#sk-container-id-5 {color: black;}#sk-container-id-5 pre{padding: 0;}#sk-container-id-5 div.sk-toggleable {background-color: white;}#sk-container-id-5 label.sk-toggleable__label {cursor: pointer;display: block;width: 100%;margin-bottom: 0;padding: 0.3em;box-sizing: border-box;text-align: center;}#sk-container-id-5 label.sk-toggleable__label-arrow:before {content: \"▸\";float: left;margin-right: 0.25em;color: #696969;}#sk-container-id-5 label.sk-toggleable__label-arrow:hover:before {color: black;}#sk-container-id-5 div.sk-estimator:hover label.sk-toggleable__label-arrow:before {color: black;}#sk-container-id-5 div.sk-toggleable__content {max-height: 0;max-width: 0;overflow: hidden;text-align: left;background-color: #f0f8ff;}#sk-container-id-5 div.sk-toggleable__content pre {margin: 0.2em;color: black;border-radius: 0.25em;background-color: #f0f8ff;}#sk-container-id-5 input.sk-toggleable__control:checked~div.sk-toggleable__content {max-height: 200px;max-width: 100%;overflow: auto;}#sk-container-id-5 input.sk-toggleable__control:checked~label.sk-toggleable__label-arrow:before {content: \"▾\";}#sk-container-id-5 div.sk-estimator input.sk-toggleable__control:checked~label.sk-toggleable__label {background-color: #d4ebff;}#sk-container-id-5 div.sk-label input.sk-toggleable__control:checked~label.sk-toggleable__label {background-color: #d4ebff;}#sk-container-id-5 input.sk-hidden--visually {border: 0;clip: rect(1px 1px 1px 1px);clip: rect(1px, 1px, 1px, 1px);height: 1px;margin: -1px;overflow: hidden;padding: 0;position: absolute;width: 1px;}#sk-container-id-5 div.sk-estimator {font-family: monospace;background-color: #f0f8ff;border: 1px dotted black;border-radius: 0.25em;box-sizing: border-box;margin-bottom: 0.5em;}#sk-container-id-5 div.sk-estimator:hover {background-color: #d4ebff;}#sk-container-id-5 div.sk-parallel-item::after {content: \"\";width: 100%;border-bottom: 1px solid gray;flex-grow: 1;}#sk-container-id-5 div.sk-label:hover label.sk-toggleable__label {background-color: #d4ebff;}#sk-container-id-5 div.sk-serial::before {content: \"\";position: absolute;border-left: 1px solid gray;box-sizing: border-box;top: 0;bottom: 0;left: 50%;z-index: 0;}#sk-container-id-5 div.sk-serial {display: flex;flex-direction: column;align-items: center;background-color: white;padding-right: 0.2em;padding-left: 0.2em;position: relative;}#sk-container-id-5 div.sk-item {position: relative;z-index: 1;}#sk-container-id-5 div.sk-parallel {display: flex;align-items: stretch;justify-content: center;background-color: white;position: relative;}#sk-container-id-5 div.sk-item::before, #sk-container-id-5 div.sk-parallel-item::before {content: \"\";position: absolute;border-left: 1px solid gray;box-sizing: border-box;top: 0;bottom: 0;left: 50%;z-index: -1;}#sk-container-id-5 div.sk-parallel-item {display: flex;flex-direction: column;z-index: 1;position: relative;background-color: white;}#sk-container-id-5 div.sk-parallel-item:first-child::after {align-self: flex-end;width: 50%;}#sk-container-id-5 div.sk-parallel-item:last-child::after {align-self: flex-start;width: 50%;}#sk-container-id-5 div.sk-parallel-item:only-child::after {width: 0;}#sk-container-id-5 div.sk-dashed-wrapped {border: 1px dashed gray;margin: 0 0.4em 0.5em 0.4em;box-sizing: border-box;padding-bottom: 0.4em;background-color: white;}#sk-container-id-5 div.sk-label label {font-family: monospace;font-weight: bold;display: inline-block;line-height: 1.2em;}#sk-container-id-5 div.sk-label-container {text-align: center;}#sk-container-id-5 div.sk-container {/* jupyter's `normalize.less` sets `[hidden] { display: none; }` but bootstrap.min.css set `[hidden] { display: none !important; }` so we also need the `!important` here to be able to override the default hidden behavior on the sphinx rendered scikit-learn.org. See: https://github.com/scikit-learn/scikit-learn/issues/21755 */display: inline-block !important;position: relative;}#sk-container-id-5 div.sk-text-repr-fallback {display: none;}</style><div id=\"sk-container-id-5\" class=\"sk-top-container\"><div class=\"sk-text-repr-fallback\"><pre>QuadraticDiscriminantAnalysis()</pre><b>In a Jupyter environment, please rerun this cell to show the HTML representation or trust the notebook. <br />On GitHub, the HTML representation is unable to render, please try loading this page with nbviewer.org.</b></div><div class=\"sk-container\" hidden><div class=\"sk-item\"><div class=\"sk-estimator sk-toggleable\"><input class=\"sk-toggleable__control sk-hidden--visually\" id=\"sk-estimator-id-5\" type=\"checkbox\" checked><label for=\"sk-estimator-id-5\" class=\"sk-toggleable__label sk-toggleable__label-arrow\">QuadraticDiscriminantAnalysis</label><div class=\"sk-toggleable__content\"><pre>QuadraticDiscriminantAnalysis()</pre></div></div></div></div></div>"
      ],
      "text/plain": [
       "QuadraticDiscriminantAnalysis()"
      ]
     },
     "execution_count": 18,
     "metadata": {},
     "output_type": "execute_result"
    }
   ],
   "source": [
    "QDA = QuadraticDiscriminantAnalysis()\n",
    "\n",
    "scoring = ['accuracy', 'precision_macro', 'recall_macro' , 'f1_weighted', 'roc_auc']\n",
    "scores = cross_validate(QDA, X_train, y_train, scoring=scoring, cv=20)\n",
    "\n",
    "sorted(scores.keys())\n",
    "QDA_fit_time = scores['fit_time'].mean()\n",
    "QDA_score_time = scores['score_time'].mean()\n",
    "QDA_accuracy = scores['test_accuracy'].mean()\n",
    "QDA_precision = scores['test_precision_macro'].mean()\n",
    "QDA_recall = scores['test_recall_macro'].mean()\n",
    "QDA_f1 = scores['test_f1_weighted'].mean()\n",
    "QDA_roc = scores['test_roc_auc'].mean()\n",
    "\n",
    "QDA.fit(X_train,y_train)"
   ]
  },
  {
   "cell_type": "code",
   "execution_count": 19,
   "metadata": {
    "id": "L3w966SARR30"
   },
   "outputs": [
    {
     "data": {
      "text/html": [
       "<style>#sk-container-id-6 {color: black;}#sk-container-id-6 pre{padding: 0;}#sk-container-id-6 div.sk-toggleable {background-color: white;}#sk-container-id-6 label.sk-toggleable__label {cursor: pointer;display: block;width: 100%;margin-bottom: 0;padding: 0.3em;box-sizing: border-box;text-align: center;}#sk-container-id-6 label.sk-toggleable__label-arrow:before {content: \"▸\";float: left;margin-right: 0.25em;color: #696969;}#sk-container-id-6 label.sk-toggleable__label-arrow:hover:before {color: black;}#sk-container-id-6 div.sk-estimator:hover label.sk-toggleable__label-arrow:before {color: black;}#sk-container-id-6 div.sk-toggleable__content {max-height: 0;max-width: 0;overflow: hidden;text-align: left;background-color: #f0f8ff;}#sk-container-id-6 div.sk-toggleable__content pre {margin: 0.2em;color: black;border-radius: 0.25em;background-color: #f0f8ff;}#sk-container-id-6 input.sk-toggleable__control:checked~div.sk-toggleable__content {max-height: 200px;max-width: 100%;overflow: auto;}#sk-container-id-6 input.sk-toggleable__control:checked~label.sk-toggleable__label-arrow:before {content: \"▾\";}#sk-container-id-6 div.sk-estimator input.sk-toggleable__control:checked~label.sk-toggleable__label {background-color: #d4ebff;}#sk-container-id-6 div.sk-label input.sk-toggleable__control:checked~label.sk-toggleable__label {background-color: #d4ebff;}#sk-container-id-6 input.sk-hidden--visually {border: 0;clip: rect(1px 1px 1px 1px);clip: rect(1px, 1px, 1px, 1px);height: 1px;margin: -1px;overflow: hidden;padding: 0;position: absolute;width: 1px;}#sk-container-id-6 div.sk-estimator {font-family: monospace;background-color: #f0f8ff;border: 1px dotted black;border-radius: 0.25em;box-sizing: border-box;margin-bottom: 0.5em;}#sk-container-id-6 div.sk-estimator:hover {background-color: #d4ebff;}#sk-container-id-6 div.sk-parallel-item::after {content: \"\";width: 100%;border-bottom: 1px solid gray;flex-grow: 1;}#sk-container-id-6 div.sk-label:hover label.sk-toggleable__label {background-color: #d4ebff;}#sk-container-id-6 div.sk-serial::before {content: \"\";position: absolute;border-left: 1px solid gray;box-sizing: border-box;top: 0;bottom: 0;left: 50%;z-index: 0;}#sk-container-id-6 div.sk-serial {display: flex;flex-direction: column;align-items: center;background-color: white;padding-right: 0.2em;padding-left: 0.2em;position: relative;}#sk-container-id-6 div.sk-item {position: relative;z-index: 1;}#sk-container-id-6 div.sk-parallel {display: flex;align-items: stretch;justify-content: center;background-color: white;position: relative;}#sk-container-id-6 div.sk-item::before, #sk-container-id-6 div.sk-parallel-item::before {content: \"\";position: absolute;border-left: 1px solid gray;box-sizing: border-box;top: 0;bottom: 0;left: 50%;z-index: -1;}#sk-container-id-6 div.sk-parallel-item {display: flex;flex-direction: column;z-index: 1;position: relative;background-color: white;}#sk-container-id-6 div.sk-parallel-item:first-child::after {align-self: flex-end;width: 50%;}#sk-container-id-6 div.sk-parallel-item:last-child::after {align-self: flex-start;width: 50%;}#sk-container-id-6 div.sk-parallel-item:only-child::after {width: 0;}#sk-container-id-6 div.sk-dashed-wrapped {border: 1px dashed gray;margin: 0 0.4em 0.5em 0.4em;box-sizing: border-box;padding-bottom: 0.4em;background-color: white;}#sk-container-id-6 div.sk-label label {font-family: monospace;font-weight: bold;display: inline-block;line-height: 1.2em;}#sk-container-id-6 div.sk-label-container {text-align: center;}#sk-container-id-6 div.sk-container {/* jupyter's `normalize.less` sets `[hidden] { display: none; }` but bootstrap.min.css set `[hidden] { display: none !important; }` so we also need the `!important` here to be able to override the default hidden behavior on the sphinx rendered scikit-learn.org. See: https://github.com/scikit-learn/scikit-learn/issues/21755 */display: inline-block !important;position: relative;}#sk-container-id-6 div.sk-text-repr-fallback {display: none;}</style><div id=\"sk-container-id-6\" class=\"sk-top-container\"><div class=\"sk-text-repr-fallback\"><pre>RandomForestClassifier()</pre><b>In a Jupyter environment, please rerun this cell to show the HTML representation or trust the notebook. <br />On GitHub, the HTML representation is unable to render, please try loading this page with nbviewer.org.</b></div><div class=\"sk-container\" hidden><div class=\"sk-item\"><div class=\"sk-estimator sk-toggleable\"><input class=\"sk-toggleable__control sk-hidden--visually\" id=\"sk-estimator-id-6\" type=\"checkbox\" checked><label for=\"sk-estimator-id-6\" class=\"sk-toggleable__label sk-toggleable__label-arrow\">RandomForestClassifier</label><div class=\"sk-toggleable__content\"><pre>RandomForestClassifier()</pre></div></div></div></div></div>"
      ],
      "text/plain": [
       "RandomForestClassifier()"
      ]
     },
     "execution_count": 19,
     "metadata": {},
     "output_type": "execute_result"
    }
   ],
   "source": [
    "random_forest = RandomForestClassifier()\n",
    "\n",
    "scoring = ['accuracy', 'precision_macro', 'recall_macro' , 'f1_weighted', 'roc_auc']\n",
    "scores = cross_validate(random_forest, X_train, y_train, scoring=scoring, cv=20)\n",
    "\n",
    "sorted(scores.keys())\n",
    "forest_fit_time = scores['fit_time'].mean()\n",
    "forest_score_time = scores['score_time'].mean()\n",
    "forest_accuracy = scores['test_accuracy'].mean()\n",
    "forest_precision = scores['test_precision_macro'].mean()\n",
    "forest_recall = scores['test_recall_macro'].mean()\n",
    "forest_f1 = scores['test_f1_weighted'].mean()\n",
    "forest_roc = scores['test_roc_auc'].mean()\n",
    "\n",
    "random_forest.fit(X_train,y_train)"
   ]
  },
  {
   "cell_type": "code",
   "execution_count": 20,
   "metadata": {
    "id": "wT3-MWd0RT7u"
   },
   "outputs": [
    {
     "data": {
      "text/html": [
       "<style>#sk-container-id-7 {color: black;}#sk-container-id-7 pre{padding: 0;}#sk-container-id-7 div.sk-toggleable {background-color: white;}#sk-container-id-7 label.sk-toggleable__label {cursor: pointer;display: block;width: 100%;margin-bottom: 0;padding: 0.3em;box-sizing: border-box;text-align: center;}#sk-container-id-7 label.sk-toggleable__label-arrow:before {content: \"▸\";float: left;margin-right: 0.25em;color: #696969;}#sk-container-id-7 label.sk-toggleable__label-arrow:hover:before {color: black;}#sk-container-id-7 div.sk-estimator:hover label.sk-toggleable__label-arrow:before {color: black;}#sk-container-id-7 div.sk-toggleable__content {max-height: 0;max-width: 0;overflow: hidden;text-align: left;background-color: #f0f8ff;}#sk-container-id-7 div.sk-toggleable__content pre {margin: 0.2em;color: black;border-radius: 0.25em;background-color: #f0f8ff;}#sk-container-id-7 input.sk-toggleable__control:checked~div.sk-toggleable__content {max-height: 200px;max-width: 100%;overflow: auto;}#sk-container-id-7 input.sk-toggleable__control:checked~label.sk-toggleable__label-arrow:before {content: \"▾\";}#sk-container-id-7 div.sk-estimator input.sk-toggleable__control:checked~label.sk-toggleable__label {background-color: #d4ebff;}#sk-container-id-7 div.sk-label input.sk-toggleable__control:checked~label.sk-toggleable__label {background-color: #d4ebff;}#sk-container-id-7 input.sk-hidden--visually {border: 0;clip: rect(1px 1px 1px 1px);clip: rect(1px, 1px, 1px, 1px);height: 1px;margin: -1px;overflow: hidden;padding: 0;position: absolute;width: 1px;}#sk-container-id-7 div.sk-estimator {font-family: monospace;background-color: #f0f8ff;border: 1px dotted black;border-radius: 0.25em;box-sizing: border-box;margin-bottom: 0.5em;}#sk-container-id-7 div.sk-estimator:hover {background-color: #d4ebff;}#sk-container-id-7 div.sk-parallel-item::after {content: \"\";width: 100%;border-bottom: 1px solid gray;flex-grow: 1;}#sk-container-id-7 div.sk-label:hover label.sk-toggleable__label {background-color: #d4ebff;}#sk-container-id-7 div.sk-serial::before {content: \"\";position: absolute;border-left: 1px solid gray;box-sizing: border-box;top: 0;bottom: 0;left: 50%;z-index: 0;}#sk-container-id-7 div.sk-serial {display: flex;flex-direction: column;align-items: center;background-color: white;padding-right: 0.2em;padding-left: 0.2em;position: relative;}#sk-container-id-7 div.sk-item {position: relative;z-index: 1;}#sk-container-id-7 div.sk-parallel {display: flex;align-items: stretch;justify-content: center;background-color: white;position: relative;}#sk-container-id-7 div.sk-item::before, #sk-container-id-7 div.sk-parallel-item::before {content: \"\";position: absolute;border-left: 1px solid gray;box-sizing: border-box;top: 0;bottom: 0;left: 50%;z-index: -1;}#sk-container-id-7 div.sk-parallel-item {display: flex;flex-direction: column;z-index: 1;position: relative;background-color: white;}#sk-container-id-7 div.sk-parallel-item:first-child::after {align-self: flex-end;width: 50%;}#sk-container-id-7 div.sk-parallel-item:last-child::after {align-self: flex-start;width: 50%;}#sk-container-id-7 div.sk-parallel-item:only-child::after {width: 0;}#sk-container-id-7 div.sk-dashed-wrapped {border: 1px dashed gray;margin: 0 0.4em 0.5em 0.4em;box-sizing: border-box;padding-bottom: 0.4em;background-color: white;}#sk-container-id-7 div.sk-label label {font-family: monospace;font-weight: bold;display: inline-block;line-height: 1.2em;}#sk-container-id-7 div.sk-label-container {text-align: center;}#sk-container-id-7 div.sk-container {/* jupyter's `normalize.less` sets `[hidden] { display: none; }` but bootstrap.min.css set `[hidden] { display: none !important; }` so we also need the `!important` here to be able to override the default hidden behavior on the sphinx rendered scikit-learn.org. See: https://github.com/scikit-learn/scikit-learn/issues/21755 */display: inline-block !important;position: relative;}#sk-container-id-7 div.sk-text-repr-fallback {display: none;}</style><div id=\"sk-container-id-7\" class=\"sk-top-container\"><div class=\"sk-text-repr-fallback\"><pre>KNeighborsClassifier()</pre><b>In a Jupyter environment, please rerun this cell to show the HTML representation or trust the notebook. <br />On GitHub, the HTML representation is unable to render, please try loading this page with nbviewer.org.</b></div><div class=\"sk-container\" hidden><div class=\"sk-item\"><div class=\"sk-estimator sk-toggleable\"><input class=\"sk-toggleable__control sk-hidden--visually\" id=\"sk-estimator-id-7\" type=\"checkbox\" checked><label for=\"sk-estimator-id-7\" class=\"sk-toggleable__label sk-toggleable__label-arrow\">KNeighborsClassifier</label><div class=\"sk-toggleable__content\"><pre>KNeighborsClassifier()</pre></div></div></div></div></div>"
      ],
      "text/plain": [
       "KNeighborsClassifier()"
      ]
     },
     "execution_count": 20,
     "metadata": {},
     "output_type": "execute_result"
    }
   ],
   "source": [
    "KNN = KNeighborsClassifier()\n",
    "\n",
    "scoring = ['accuracy', 'precision_macro', 'recall_macro' , 'f1_weighted', 'roc_auc']\n",
    "scores = cross_validate(KNN, X_train, y_train, scoring=scoring, cv=20)\n",
    "\n",
    "sorted(scores.keys())\n",
    "KNN_fit_time = scores['fit_time'].mean()\n",
    "KNN_score_time = scores['score_time'].mean()\n",
    "KNN_accuracy = scores['test_accuracy'].mean()\n",
    "KNN_precision = scores['test_precision_macro'].mean()\n",
    "KNN_recall = scores['test_recall_macro'].mean()\n",
    "KNN_f1 = scores['test_f1_weighted'].mean()\n",
    "KNN_roc = scores['test_roc_auc'].mean()\n",
    "\n",
    "KNN.fit(X_train,y_train)"
   ]
  },
  {
   "cell_type": "code",
   "execution_count": 21,
   "metadata": {
    "id": "ihSYsa6xRV-Z"
   },
   "outputs": [
    {
     "data": {
      "text/html": [
       "<style>#sk-container-id-8 {color: black;}#sk-container-id-8 pre{padding: 0;}#sk-container-id-8 div.sk-toggleable {background-color: white;}#sk-container-id-8 label.sk-toggleable__label {cursor: pointer;display: block;width: 100%;margin-bottom: 0;padding: 0.3em;box-sizing: border-box;text-align: center;}#sk-container-id-8 label.sk-toggleable__label-arrow:before {content: \"▸\";float: left;margin-right: 0.25em;color: #696969;}#sk-container-id-8 label.sk-toggleable__label-arrow:hover:before {color: black;}#sk-container-id-8 div.sk-estimator:hover label.sk-toggleable__label-arrow:before {color: black;}#sk-container-id-8 div.sk-toggleable__content {max-height: 0;max-width: 0;overflow: hidden;text-align: left;background-color: #f0f8ff;}#sk-container-id-8 div.sk-toggleable__content pre {margin: 0.2em;color: black;border-radius: 0.25em;background-color: #f0f8ff;}#sk-container-id-8 input.sk-toggleable__control:checked~div.sk-toggleable__content {max-height: 200px;max-width: 100%;overflow: auto;}#sk-container-id-8 input.sk-toggleable__control:checked~label.sk-toggleable__label-arrow:before {content: \"▾\";}#sk-container-id-8 div.sk-estimator input.sk-toggleable__control:checked~label.sk-toggleable__label {background-color: #d4ebff;}#sk-container-id-8 div.sk-label input.sk-toggleable__control:checked~label.sk-toggleable__label {background-color: #d4ebff;}#sk-container-id-8 input.sk-hidden--visually {border: 0;clip: rect(1px 1px 1px 1px);clip: rect(1px, 1px, 1px, 1px);height: 1px;margin: -1px;overflow: hidden;padding: 0;position: absolute;width: 1px;}#sk-container-id-8 div.sk-estimator {font-family: monospace;background-color: #f0f8ff;border: 1px dotted black;border-radius: 0.25em;box-sizing: border-box;margin-bottom: 0.5em;}#sk-container-id-8 div.sk-estimator:hover {background-color: #d4ebff;}#sk-container-id-8 div.sk-parallel-item::after {content: \"\";width: 100%;border-bottom: 1px solid gray;flex-grow: 1;}#sk-container-id-8 div.sk-label:hover label.sk-toggleable__label {background-color: #d4ebff;}#sk-container-id-8 div.sk-serial::before {content: \"\";position: absolute;border-left: 1px solid gray;box-sizing: border-box;top: 0;bottom: 0;left: 50%;z-index: 0;}#sk-container-id-8 div.sk-serial {display: flex;flex-direction: column;align-items: center;background-color: white;padding-right: 0.2em;padding-left: 0.2em;position: relative;}#sk-container-id-8 div.sk-item {position: relative;z-index: 1;}#sk-container-id-8 div.sk-parallel {display: flex;align-items: stretch;justify-content: center;background-color: white;position: relative;}#sk-container-id-8 div.sk-item::before, #sk-container-id-8 div.sk-parallel-item::before {content: \"\";position: absolute;border-left: 1px solid gray;box-sizing: border-box;top: 0;bottom: 0;left: 50%;z-index: -1;}#sk-container-id-8 div.sk-parallel-item {display: flex;flex-direction: column;z-index: 1;position: relative;background-color: white;}#sk-container-id-8 div.sk-parallel-item:first-child::after {align-self: flex-end;width: 50%;}#sk-container-id-8 div.sk-parallel-item:last-child::after {align-self: flex-start;width: 50%;}#sk-container-id-8 div.sk-parallel-item:only-child::after {width: 0;}#sk-container-id-8 div.sk-dashed-wrapped {border: 1px dashed gray;margin: 0 0.4em 0.5em 0.4em;box-sizing: border-box;padding-bottom: 0.4em;background-color: white;}#sk-container-id-8 div.sk-label label {font-family: monospace;font-weight: bold;display: inline-block;line-height: 1.2em;}#sk-container-id-8 div.sk-label-container {text-align: center;}#sk-container-id-8 div.sk-container {/* jupyter's `normalize.less` sets `[hidden] { display: none; }` but bootstrap.min.css set `[hidden] { display: none !important; }` so we also need the `!important` here to be able to override the default hidden behavior on the sphinx rendered scikit-learn.org. See: https://github.com/scikit-learn/scikit-learn/issues/21755 */display: inline-block !important;position: relative;}#sk-container-id-8 div.sk-text-repr-fallback {display: none;}</style><div id=\"sk-container-id-8\" class=\"sk-top-container\"><div class=\"sk-text-repr-fallback\"><pre>GaussianNB()</pre><b>In a Jupyter environment, please rerun this cell to show the HTML representation or trust the notebook. <br />On GitHub, the HTML representation is unable to render, please try loading this page with nbviewer.org.</b></div><div class=\"sk-container\" hidden><div class=\"sk-item\"><div class=\"sk-estimator sk-toggleable\"><input class=\"sk-toggleable__control sk-hidden--visually\" id=\"sk-estimator-id-8\" type=\"checkbox\" checked><label for=\"sk-estimator-id-8\" class=\"sk-toggleable__label sk-toggleable__label-arrow\">GaussianNB</label><div class=\"sk-toggleable__content\"><pre>GaussianNB()</pre></div></div></div></div></div>"
      ],
      "text/plain": [
       "GaussianNB()"
      ]
     },
     "execution_count": 21,
     "metadata": {},
     "output_type": "execute_result"
    }
   ],
   "source": [
    "bayes = GaussianNB()\n",
    "\n",
    "scoring = ['accuracy', 'precision_macro', 'recall_macro' , 'f1_weighted', 'roc_auc']\n",
    "scores = cross_validate(bayes, X_train, y_train, scoring=scoring, cv=20)\n",
    "\n",
    "sorted(scores.keys())\n",
    "bayes_fit_time = scores['fit_time'].mean()\n",
    "bayes_score_time = scores['score_time'].mean()\n",
    "bayes_accuracy = scores['test_accuracy'].mean()\n",
    "bayes_precision = scores['test_precision_macro'].mean()\n",
    "bayes_recall = scores['test_recall_macro'].mean()\n",
    "bayes_f1 = scores['test_f1_weighted'].mean()\n",
    "bayes_roc = scores['test_roc_auc'].mean()\n",
    "\n",
    "bayes.fit(X_train,y_train)"
   ]
  },
  {
   "cell_type": "code",
   "execution_count": 22,
   "metadata": {
    "id": "E6gRJDuTRX8T"
   },
   "outputs": [
    {
     "data": {
      "text/html": [
       "<style>#sk-container-id-9 {color: black;}#sk-container-id-9 pre{padding: 0;}#sk-container-id-9 div.sk-toggleable {background-color: white;}#sk-container-id-9 label.sk-toggleable__label {cursor: pointer;display: block;width: 100%;margin-bottom: 0;padding: 0.3em;box-sizing: border-box;text-align: center;}#sk-container-id-9 label.sk-toggleable__label-arrow:before {content: \"▸\";float: left;margin-right: 0.25em;color: #696969;}#sk-container-id-9 label.sk-toggleable__label-arrow:hover:before {color: black;}#sk-container-id-9 div.sk-estimator:hover label.sk-toggleable__label-arrow:before {color: black;}#sk-container-id-9 div.sk-toggleable__content {max-height: 0;max-width: 0;overflow: hidden;text-align: left;background-color: #f0f8ff;}#sk-container-id-9 div.sk-toggleable__content pre {margin: 0.2em;color: black;border-radius: 0.25em;background-color: #f0f8ff;}#sk-container-id-9 input.sk-toggleable__control:checked~div.sk-toggleable__content {max-height: 200px;max-width: 100%;overflow: auto;}#sk-container-id-9 input.sk-toggleable__control:checked~label.sk-toggleable__label-arrow:before {content: \"▾\";}#sk-container-id-9 div.sk-estimator input.sk-toggleable__control:checked~label.sk-toggleable__label {background-color: #d4ebff;}#sk-container-id-9 div.sk-label input.sk-toggleable__control:checked~label.sk-toggleable__label {background-color: #d4ebff;}#sk-container-id-9 input.sk-hidden--visually {border: 0;clip: rect(1px 1px 1px 1px);clip: rect(1px, 1px, 1px, 1px);height: 1px;margin: -1px;overflow: hidden;padding: 0;position: absolute;width: 1px;}#sk-container-id-9 div.sk-estimator {font-family: monospace;background-color: #f0f8ff;border: 1px dotted black;border-radius: 0.25em;box-sizing: border-box;margin-bottom: 0.5em;}#sk-container-id-9 div.sk-estimator:hover {background-color: #d4ebff;}#sk-container-id-9 div.sk-parallel-item::after {content: \"\";width: 100%;border-bottom: 1px solid gray;flex-grow: 1;}#sk-container-id-9 div.sk-label:hover label.sk-toggleable__label {background-color: #d4ebff;}#sk-container-id-9 div.sk-serial::before {content: \"\";position: absolute;border-left: 1px solid gray;box-sizing: border-box;top: 0;bottom: 0;left: 50%;z-index: 0;}#sk-container-id-9 div.sk-serial {display: flex;flex-direction: column;align-items: center;background-color: white;padding-right: 0.2em;padding-left: 0.2em;position: relative;}#sk-container-id-9 div.sk-item {position: relative;z-index: 1;}#sk-container-id-9 div.sk-parallel {display: flex;align-items: stretch;justify-content: center;background-color: white;position: relative;}#sk-container-id-9 div.sk-item::before, #sk-container-id-9 div.sk-parallel-item::before {content: \"\";position: absolute;border-left: 1px solid gray;box-sizing: border-box;top: 0;bottom: 0;left: 50%;z-index: -1;}#sk-container-id-9 div.sk-parallel-item {display: flex;flex-direction: column;z-index: 1;position: relative;background-color: white;}#sk-container-id-9 div.sk-parallel-item:first-child::after {align-self: flex-end;width: 50%;}#sk-container-id-9 div.sk-parallel-item:last-child::after {align-self: flex-start;width: 50%;}#sk-container-id-9 div.sk-parallel-item:only-child::after {width: 0;}#sk-container-id-9 div.sk-dashed-wrapped {border: 1px dashed gray;margin: 0 0.4em 0.5em 0.4em;box-sizing: border-box;padding-bottom: 0.4em;background-color: white;}#sk-container-id-9 div.sk-label label {font-family: monospace;font-weight: bold;display: inline-block;line-height: 1.2em;}#sk-container-id-9 div.sk-label-container {text-align: center;}#sk-container-id-9 div.sk-container {/* jupyter's `normalize.less` sets `[hidden] { display: none; }` but bootstrap.min.css set `[hidden] { display: none !important; }` so we also need the `!important` here to be able to override the default hidden behavior on the sphinx rendered scikit-learn.org. See: https://github.com/scikit-learn/scikit-learn/issues/21755 */display: inline-block !important;position: relative;}#sk-container-id-9 div.sk-text-repr-fallback {display: none;}</style><div id=\"sk-container-id-9\" class=\"sk-top-container\"><div class=\"sk-text-repr-fallback\"><pre>MLPClassifier()</pre><b>In a Jupyter environment, please rerun this cell to show the HTML representation or trust the notebook. <br />On GitHub, the HTML representation is unable to render, please try loading this page with nbviewer.org.</b></div><div class=\"sk-container\" hidden><div class=\"sk-item\"><div class=\"sk-estimator sk-toggleable\"><input class=\"sk-toggleable__control sk-hidden--visually\" id=\"sk-estimator-id-9\" type=\"checkbox\" checked><label for=\"sk-estimator-id-9\" class=\"sk-toggleable__label sk-toggleable__label-arrow\">MLPClassifier</label><div class=\"sk-toggleable__content\"><pre>MLPClassifier()</pre></div></div></div></div></div>"
      ],
      "text/plain": [
       "MLPClassifier()"
      ]
     },
     "execution_count": 22,
     "metadata": {},
     "output_type": "execute_result"
    }
   ],
   "source": [
    "nn = MLPClassifier()\n",
    "\n",
    "scoring = ['accuracy', 'precision_macro', 'recall_macro' , 'f1_weighted', 'roc_auc']\n",
    "scores = cross_validate(nn, X_train, y_train, scoring=scoring, cv=20)\n",
    "\n",
    "sorted(scores.keys())\n",
    "nn_fit_time = scores['fit_time'].mean()\n",
    "nn_score_time = scores['score_time'].mean()\n",
    "nn_accuracy = scores['test_accuracy'].mean()\n",
    "nn_precision = scores['test_precision_macro'].mean()\n",
    "nn_recall = scores['test_recall_macro'].mean()\n",
    "nn_f1 = scores['test_f1_weighted'].mean()\n",
    "nn_roc = scores['test_roc_auc'].mean()\n",
    "\n",
    "nn.fit(X_train,y_train)"
   ]
  },
  {
   "cell_type": "code",
   "execution_count": 23,
   "metadata": {
    "colab": {
     "base_uri": "https://localhost:8080/",
     "height": 328
    },
    "id": "gp4pR3EuRdwW",
    "outputId": "3d78012d-6b83-4bce-86ff-1631c8fdb2f3"
   },
   "outputs": [
    {
     "data": {
      "text/html": [
       "<div>\n",
       "<style scoped>\n",
       "    .dataframe tbody tr th:only-of-type {\n",
       "        vertical-align: middle;\n",
       "    }\n",
       "\n",
       "    .dataframe tbody tr th {\n",
       "        vertical-align: top;\n",
       "    }\n",
       "\n",
       "    .dataframe thead th {\n",
       "        text-align: right;\n",
       "    }\n",
       "</style>\n",
       "<table border=\"1\" class=\"dataframe\">\n",
       "  <thead>\n",
       "    <tr style=\"text-align: right;\">\n",
       "      <th></th>\n",
       "      <th>Model</th>\n",
       "      <th>Fitting time</th>\n",
       "      <th>Scoring time</th>\n",
       "      <th>Accuracy</th>\n",
       "      <th>Precision</th>\n",
       "      <th>Recall</th>\n",
       "      <th>F1_score</th>\n",
       "      <th>AUC_ROC</th>\n",
       "    </tr>\n",
       "  </thead>\n",
       "  <tbody>\n",
       "    <tr>\n",
       "      <th>5</th>\n",
       "      <td>Random Forest</td>\n",
       "      <td>1.084738</td>\n",
       "      <td>0.033100</td>\n",
       "      <td>0.805064</td>\n",
       "      <td>0.795465</td>\n",
       "      <td>0.776684</td>\n",
       "      <td>0.801739</td>\n",
       "      <td>0.878226</td>\n",
       "    </tr>\n",
       "    <tr>\n",
       "      <th>1</th>\n",
       "      <td>Decision Tree</td>\n",
       "      <td>0.034418</td>\n",
       "      <td>0.012885</td>\n",
       "      <td>0.770974</td>\n",
       "      <td>0.754457</td>\n",
       "      <td>0.752294</td>\n",
       "      <td>0.770586</td>\n",
       "      <td>0.758157</td>\n",
       "    </tr>\n",
       "    <tr>\n",
       "      <th>6</th>\n",
       "      <td>K-Nearest Neighbors</td>\n",
       "      <td>0.004019</td>\n",
       "      <td>0.021064</td>\n",
       "      <td>0.743209</td>\n",
       "      <td>0.723523</td>\n",
       "      <td>0.721324</td>\n",
       "      <td>0.742238</td>\n",
       "      <td>0.799863</td>\n",
       "    </tr>\n",
       "    <tr>\n",
       "      <th>8</th>\n",
       "      <td>Neural Network</td>\n",
       "      <td>2.545478</td>\n",
       "      <td>0.012727</td>\n",
       "      <td>0.715434</td>\n",
       "      <td>0.694031</td>\n",
       "      <td>0.675081</td>\n",
       "      <td>0.708248</td>\n",
       "      <td>0.773104</td>\n",
       "    </tr>\n",
       "    <tr>\n",
       "      <th>2</th>\n",
       "      <td>Support Vector Machine</td>\n",
       "      <td>2.384649</td>\n",
       "      <td>0.131240</td>\n",
       "      <td>0.698891</td>\n",
       "      <td>0.675992</td>\n",
       "      <td>0.645658</td>\n",
       "      <td>0.685093</td>\n",
       "      <td>0.740896</td>\n",
       "    </tr>\n",
       "    <tr>\n",
       "      <th>3</th>\n",
       "      <td>Linear Discriminant Analysis</td>\n",
       "      <td>0.003203</td>\n",
       "      <td>0.011194</td>\n",
       "      <td>0.631120</td>\n",
       "      <td>0.552182</td>\n",
       "      <td>0.523382</td>\n",
       "      <td>0.554666</td>\n",
       "      <td>0.654489</td>\n",
       "    </tr>\n",
       "    <tr>\n",
       "      <th>0</th>\n",
       "      <td>Logistic Regression</td>\n",
       "      <td>0.023632</td>\n",
       "      <td>0.027121</td>\n",
       "      <td>0.616976</td>\n",
       "      <td>0.549598</td>\n",
       "      <td>0.533942</td>\n",
       "      <td>0.576549</td>\n",
       "      <td>0.655853</td>\n",
       "    </tr>\n",
       "    <tr>\n",
       "      <th>4</th>\n",
       "      <td>Quadratic Discriminant Analysis</td>\n",
       "      <td>0.002042</td>\n",
       "      <td>0.013350</td>\n",
       "      <td>0.598834</td>\n",
       "      <td>0.655570</td>\n",
       "      <td>0.651306</td>\n",
       "      <td>0.595463</td>\n",
       "      <td>0.687077</td>\n",
       "    </tr>\n",
       "    <tr>\n",
       "      <th>7</th>\n",
       "      <td>Bayes</td>\n",
       "      <td>0.002223</td>\n",
       "      <td>0.012824</td>\n",
       "      <td>0.577403</td>\n",
       "      <td>0.618745</td>\n",
       "      <td>0.619502</td>\n",
       "      <td>0.577290</td>\n",
       "      <td>0.641061</td>\n",
       "    </tr>\n",
       "  </tbody>\n",
       "</table>\n",
       "</div>"
      ],
      "text/plain": [
       "                             Model  Fitting time  Scoring time  Accuracy  \\\n",
       "5                    Random Forest      1.084738      0.033100  0.805064   \n",
       "1                    Decision Tree      0.034418      0.012885  0.770974   \n",
       "6              K-Nearest Neighbors      0.004019      0.021064  0.743209   \n",
       "8                   Neural Network      2.545478      0.012727  0.715434   \n",
       "2           Support Vector Machine      2.384649      0.131240  0.698891   \n",
       "3     Linear Discriminant Analysis      0.003203      0.011194  0.631120   \n",
       "0              Logistic Regression      0.023632      0.027121  0.616976   \n",
       "4  Quadratic Discriminant Analysis      0.002042      0.013350  0.598834   \n",
       "7                            Bayes      0.002223      0.012824  0.577403   \n",
       "\n",
       "   Precision    Recall  F1_score   AUC_ROC  \n",
       "5   0.795465  0.776684  0.801739  0.878226  \n",
       "1   0.754457  0.752294  0.770586  0.758157  \n",
       "6   0.723523  0.721324  0.742238  0.799863  \n",
       "8   0.694031  0.675081  0.708248  0.773104  \n",
       "2   0.675992  0.645658  0.685093  0.740896  \n",
       "3   0.552182  0.523382  0.554666  0.654489  \n",
       "0   0.549598  0.533942  0.576549  0.655853  \n",
       "4   0.655570  0.651306  0.595463  0.687077  \n",
       "7   0.618745  0.619502  0.577290  0.641061  "
      ]
     },
     "execution_count": 23,
     "metadata": {},
     "output_type": "execute_result"
    }
   ],
   "source": [
    "models_initial = pd.DataFrame({\n",
    "    'Model'       : ['Logistic Regression', 'Decision Tree', 'Support Vector Machine', 'Linear Discriminant Analysis', 'Quadratic Discriminant Analysis', 'Random Forest', 'K-Nearest Neighbors', 'Bayes','Neural Network'],\n",
    "    'Fitting time': [LR_fit_time, dtree_fit_time, SVM_fit_time, LDA_fit_time, QDA_fit_time, forest_fit_time, KNN_fit_time, bayes_fit_time,nn_fit_time],\n",
    "    'Scoring time': [LR_score_time, dtree_score_time, SVM_score_time, LDA_score_time, QDA_score_time, forest_score_time, KNN_score_time, bayes_score_time,nn_score_time],\n",
    "    'Accuracy'    : [LR_accuracy, dtree_accuracy, SVM_accuracy, LDA_accuracy, QDA_accuracy, forest_accuracy, KNN_accuracy, bayes_accuracy,nn_accuracy],\n",
    "    'Precision'   : [LR_precision, dtree_precision, SVM_precision, LDA_precision, QDA_precision, forest_precision, KNN_precision, bayes_precision,nn_precision],\n",
    "    'Recall'      : [LR_recall, dtree_recall, SVM_recall, LDA_recall, QDA_recall, forest_recall, KNN_recall, bayes_recall,nn_recall],\n",
    "    'F1_score'    : [LR_f1, dtree_f1, SVM_f1, LDA_f1, QDA_f1, forest_f1, KNN_f1, bayes_f1,nn_f1],\n",
    "    'AUC_ROC'     : [LR_roc, dtree_roc, SVM_roc, LDA_roc, QDA_roc, forest_roc, KNN_roc, bayes_roc, nn_roc],\n",
    "    }, columns = ['Model', 'Fitting time', 'Scoring time', 'Accuracy', 'Precision', 'Recall', 'F1_score', 'AUC_ROC'])\n",
    "\n",
    "models_initial.sort_values(by='Accuracy', ascending=False)"
   ]
  },
  {
   "cell_type": "code",
   "execution_count": 24,
   "metadata": {},
   "outputs": [
    {
     "name": "stdout",
     "output_type": "stream",
     "text": [
      "                             Model  Fitting time  Scoring time  Accuracy  \\\n",
      "5                    Random Forest      1.084738      0.033100  0.805064   \n",
      "1                    Decision Tree      0.034418      0.012885  0.770974   \n",
      "6              K-Nearest Neighbors      0.004019      0.021064  0.743209   \n",
      "8                   Neural Network      2.545478      0.012727  0.715434   \n",
      "2           Support Vector Machine      2.384649      0.131240  0.698891   \n",
      "3     Linear Discriminant Analysis      0.003203      0.011194  0.631120   \n",
      "0              Logistic Regression      0.023632      0.027121  0.616976   \n",
      "4  Quadratic Discriminant Analysis      0.002042      0.013350  0.598834   \n",
      "7                            Bayes      0.002223      0.012824  0.577403   \n",
      "\n",
      "   Precision    Recall  F1_score   AUC_ROC  \n",
      "5   0.795465  0.776684  0.801739  0.878226  \n",
      "1   0.754457  0.752294  0.770586  0.758157  \n",
      "6   0.723523  0.721324  0.742238  0.799863  \n",
      "8   0.694031  0.675081  0.708248  0.773104  \n",
      "2   0.675992  0.645658  0.685093  0.740896  \n",
      "3   0.552182  0.523382  0.554666  0.654489  \n",
      "0   0.549598  0.533942  0.576549  0.655853  \n",
      "4   0.655570  0.651306  0.595463  0.687077  \n",
      "7   0.618745  0.619502  0.577290  0.641061  \n"
     ]
    },
    {
     "data": {
      "image/png": "[encoded data removed]",
      "text/plain": [
       "<Figure size 1800x1800 with 6 Axes>"
      ]
     },
     "metadata": {},
     "output_type": "display_data"
    }
   ],
   "source": [
    "models_initial = models_initial.sort_values(by='Accuracy', ascending=False)\n",
    "print(models_initial)\n",
    "\n",
    "# Plot model performance metrics\n",
    "fig, axes = plt.subplots(3, 2, figsize=(18, 18))\n",
    "\n",
    "sns.barplot(x='Accuracy', y='Model', data=models_initial, ax=axes[0, 0])\n",
    "axes[0, 0].set_title('Model Accuracy')\n",
    "\n",
    "sns.barplot(x='Precision', y='Model', data=models_initial, ax=axes[0, 1])\n",
    "axes[0, 1].set_title('Model Precision')\n",
    "\n",
    "sns.barplot(x='Recall', y='Model', data=models_initial, ax=axes[1, 0])\n",
    "axes[1, 0].set_title('Model Recall')\n",
    "\n",
    "sns.barplot(x='F1_score', y='Model', data=models_initial, ax=axes[1, 1])\n",
    "axes[1, 1].set_title('Model F1 Score')\n",
    "\n",
    "sns.barplot(x='AUC_ROC', y='Model', data=models_initial, ax=axes[2, 0])\n",
    "axes[2, 0].set_title('Model AUC-ROC')\n",
    "\n",
    "sns.barplot(x='Fitting time', y='Model', data=models_initial, ax=axes[2, 1])\n",
    "axes[2, 1].set_title('Model Fitting Time')\n",
    "\n",
    "plt.tight_layout()\n",
    "plt.show()"
   ]
  },
  {
   "cell_type": "code",
   "execution_count": 25,
   "metadata": {},
   "outputs": [],
   "source": [
    "def predict_all_models(peptide_sequence, models, scaler, max_length=22):\n",
    "    properties = calculate_physicochemical_properties(peptide_sequence)\n",
    "    prop_values = list(properties.values())\n",
    "    prop_values = scaler.transform([prop_values])\n",
    "    results = {}\n",
    "    for name, model in models.items():\n",
    "        prediction = model.predict(prop_values)\n",
    "        results[name] = 'Antimicrobial' if prediction[0] > 0.5 else 'Non-antimicrobial'\n",
    "    return results"
   ]
  },
  {
   "cell_type": "code",
   "execution_count": 26,
   "metadata": {},
   "outputs": [],
   "source": [
    "model={\"Logistic Regression\":LR,\n",
    "       \"SVC\":SVM,\n",
    "       \"Decision Tree\":decision_tree,\n",
    "       \"Linear Discriminant Analysis\":LDA,\n",
    "       \"Quadratic Discriminant Analysis\":QDA,\n",
    "       \"Random Forest\":random_forest,\n",
    "       \"K-Nearest Neighbors\":KNN,\n",
    "       \"Bayes Classification\":bayes,\n",
    "       \"Neural Network\":nn\n",
    "        }"
   ]
  },
  {
   "cell_type": "code",
   "execution_count": 27,
   "metadata": {},
   "outputs": [
    {
     "name": "stdout",
     "output_type": "stream",
     "text": [
      "Predictions for each model:\n",
      "Logistic Regression: Non-antimicrobial\n",
      "SVC: Antimicrobial\n",
      "Decision Tree: Non-antimicrobial\n",
      "Linear Discriminant Analysis: Non-antimicrobial\n",
      "Quadratic Discriminant Analysis: Non-antimicrobial\n",
      "Random Forest: Non-antimicrobial\n",
      "K-Nearest Neighbors: Antimicrobial\n",
      "Bayes Classification: Antimicrobial\n",
      "Neural Network: Non-antimicrobial\n"
     ]
    }
   ],
   "source": [
    "peptide_sequence = 'GLWSKIKEVGKEAAKAAAKAAG'\n",
    "predictions = predict_all_models(peptide_sequence,model, scaler)\n",
    "print(\"Predictions for each model:\")\n",
    "for model_name, prediction in predictions.items():\n",
    "    print(f\"{model_name}: {prediction}\")\n"
   ]
  },
  {
   "cell_type": "code",
   "execution_count": 28,
   "metadata": {},
   "outputs": [
    {
     "name": "stdout",
     "output_type": "stream",
     "text": [
      "Predictions for each model:\n",
      "Logistic Regression: Non-antimicrobial\n",
      "SVC: Non-antimicrobial\n",
      "Decision Tree: Non-antimicrobial\n",
      "Linear Discriminant Analysis: Non-antimicrobial\n",
      "Quadratic Discriminant Analysis: Non-antimicrobial\n",
      "Random Forest: Non-antimicrobial\n",
      "K-Nearest Neighbors: Antimicrobial\n",
      "Bayes Classification: Non-antimicrobial\n",
      "Neural Network: Non-antimicrobial\n"
     ]
    }
   ],
   "source": [
    "peptide_sequence = 'AKKAGLWISEEKAL'\n",
    "predictions = predict_all_models(peptide_sequence, model, scaler)\n",
    "print(\"Predictions for each model:\")\n",
    "for model_name, prediction in predictions.items():\n",
    "    print(f\"{model_name}: {prediction}\")"
   ]
  },
  {
   "cell_type": "code",
   "execution_count": 29,
   "metadata": {},
   "outputs": [
    {
     "name": "stdout",
     "output_type": "stream",
     "text": [
      "Predictions for each model:\n",
      "Logistic Regression: Non-antimicrobial\n",
      "SVC: Antimicrobial\n",
      "Decision Tree: Antimicrobial\n",
      "Linear Discriminant Analysis: Non-antimicrobial\n",
      "Quadratic Discriminant Analysis: Antimicrobial\n",
      "Random Forest: Antimicrobial\n",
      "K-Nearest Neighbors: Non-antimicrobial\n",
      "Bayes Classification: Antimicrobial\n",
      "Neural Network: Non-antimicrobial\n"
     ]
    }
   ],
   "source": [
    "peptide_sequence = 'ILGKLLSTAAGLLSNL'\n",
    "predictions = predict_all_models(peptide_sequence, model, scaler)\n",
    "print(\"Predictions for each model:\")\n",
    "for model_name, prediction in predictions.items():\n",
    "    print(f\"{model_name}: {prediction}\")"
   ]
  },
  {
   "cell_type": "code",
   "execution_count": null,
   "metadata": {},
   "outputs": [],
   "source": []
  }
 ],
 "metadata": {
  "colab": {
   "provenance": []
  },
  "kernelspec": {
   "display_name": "Python 3 (ipykernel)",
   "language": "python",
   "name": "python3"
  },
  "language_info": {
   "codemirror_mode": {
    "name": "ipython",
    "version": 3
   },
   "file_extension": ".py",
   "mimetype": "text/x-python",
   "name": "python",
   "nbconvert_exporter": "python",
   "pygments_lexer": "ipython3",
   "version": "3.11.7"
  }
 },
 "nbformat": 4,
 "nbformat_minor": 4
}
